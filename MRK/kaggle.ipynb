{
 "cells": [
  {
   "cell_type": "markdown",
   "metadata": {},
   "source": [
    "## Google Analytics Customer Revenue Prediction"
   ]
  },
  {
   "cell_type": "markdown",
   "metadata": {},
   "source": [
    "## 1. Getting the data"
   ]
  },
  {
   "cell_type": "code",
   "execution_count": 25,
   "metadata": {},
   "outputs": [],
   "source": [
    "#### Loading the Required Packages ############\n",
    "import pandas as pd\n",
    "import numpy as np\n",
    "import matplotlib.pyplot as plt\n",
    "import seaborn as sns\n",
    "import json\n",
    "import gc\n",
    "import sys\n",
    "\n",
    "from pandas.io.json import json_normalize\n",
    "from datetime import datetime\n",
    "from sklearn import preprocessing\n",
    "from sklearn.model_selection import train_test_split\n",
    "from sklearn.linear_model import LinearRegression\n",
    "from sklearn.linear_model import LogisticRegression"
   ]
  },
  {
   "cell_type": "markdown",
   "metadata": {},
   "source": [
    "#### Function to convert XML to dataframes "
   ]
  },
  {
   "cell_type": "code",
   "execution_count": 21,
   "metadata": {},
   "outputs": [],
   "source": [
    "def load_df(csv_path, nrows=None):\n",
    "    JSON_COLUMNS = ['device', 'geoNetwork', 'totals', 'trafficSource']\n",
    "    \n",
    "    df = pd.read_csv(csv_path, \n",
    "                     converters={column: json.loads for column in JSON_COLUMNS}, \n",
    "                     dtype={'fullVisitorId': 'str'}, # Important!!\n",
    "                     nrows=nrows)\n",
    "    \n",
    "    for column in JSON_COLUMNS:\n",
    "        column_as_df = json_normalize(df[column])\n",
    "        column_as_df.columns = [str(column)+\".\"+str(subcolumn) for subcolumn in column_as_df.columns]\n",
    "        df = df.drop(column, axis=1).merge(column_as_df, right_index=True, left_index=True)\n",
    "    print(\"Loaded {os.path.basename(csv_path)}. Shape: {df.shape}\")\n",
    "    return df"
   ]
  },
  {
   "cell_type": "markdown",
   "metadata": {},
   "source": [
    "#### Calling the input train and test xml files to convert to dataframe"
   ]
  },
  {
   "cell_type": "code",
   "execution_count": 18,
   "metadata": {},
   "outputs": [],
   "source": [
    "#train = load_df(os.getcwd()+'\\\\train.csv')\n",
    "#test = load_df(os.getcwd()+'/test.csv')"
   ]
  },
  {
   "cell_type": "markdown",
   "metadata": {},
   "source": [
    "#### Saving a CSV copy of generated dataframes"
   ]
  },
  {
   "cell_type": "code",
   "execution_count": 25,
   "metadata": {},
   "outputs": [],
   "source": [
    "#train.to_csv('train_extracted.csv',encoding='utf8')\n",
    "#test.to_csv('test_extracted.csv', encoding = 'utf8')\n",
    "\n",
    "## Reading saved the data\n",
    "train = pd.read_csv('train_extracted.csv',encoding='utf8',dtype={'fullVisitorId': 'str'})\n",
    "test = pd.read_csv('test_extracted.csv', encoding = 'utf8',dtype={'fullVisitorId': 'str'})"
   ]
  },
  {
   "cell_type": "markdown",
   "metadata": {},
   "source": [
    "#### Combining train and test data\n",
    "\n",
    "For ease in computation of data transformation and other changes, we combine the train and test"
   ]
  },
  {
   "cell_type": "code",
   "execution_count": 27,
   "metadata": {},
   "outputs": [],
   "source": [
    "train['data_source'] = 'train'\n",
    "test['data_source'] = 'test'\n",
    "\n",
    "all_data = pd.concat([train,test], axis = 0)"
   ]
  },
  {
   "cell_type": "code",
   "execution_count": 28,
   "metadata": {},
   "outputs": [
    {
     "data": {
      "text/plain": [
       "(1708337, 56)"
      ]
     },
     "execution_count": 28,
     "metadata": {},
     "output_type": "execute_result"
    }
   ],
   "source": [
    "all_data.shape"
   ]
  },
  {
   "cell_type": "markdown",
   "metadata": {},
   "source": [
    "## 2. Analyzing the Data"
   ]
  },
  {
   "cell_type": "markdown",
   "metadata": {},
   "source": [
    "#### Emtpy values \n",
    "\n",
    "Checking the ratio of NULL/empty values"
   ]
  },
  {
   "cell_type": "code",
   "execution_count": 19,
   "metadata": {},
   "outputs": [
    {
     "ename": "NameError",
     "evalue": "name 'train' is not defined",
     "output_type": "error",
     "traceback": [
      "\u001b[1;31m---------------------------------------------------------------------------\u001b[0m",
      "\u001b[1;31mNameError\u001b[0m                                 Traceback (most recent call last)",
      "\u001b[1;32m<ipython-input-19-e7084846e682>\u001b[0m in \u001b[0;36m<module>\u001b[1;34m()\u001b[0m\n\u001b[1;32m----> 1\u001b[1;33m \u001b[1;36m100\u001b[0m \u001b[1;33m*\u001b[0m \u001b[0mfloat\u001b[0m\u001b[1;33m(\u001b[0m\u001b[0mtrain\u001b[0m\u001b[1;33m[\u001b[0m\u001b[1;34m'totals_transactionRevenue'\u001b[0m\u001b[1;33m]\u001b[0m\u001b[1;33m.\u001b[0m\u001b[0misnull\u001b[0m\u001b[1;33m(\u001b[0m\u001b[1;33m)\u001b[0m\u001b[1;33m.\u001b[0m\u001b[0msum\u001b[0m\u001b[1;33m(\u001b[0m\u001b[1;33m)\u001b[0m\u001b[1;33m)\u001b[0m\u001b[1;33m/\u001b[0m\u001b[0mlen\u001b[0m\u001b[1;33m(\u001b[0m\u001b[0mtrain\u001b[0m\u001b[1;33m[\u001b[0m\u001b[1;34m'totals_transactionRevenue'\u001b[0m\u001b[1;33m]\u001b[0m\u001b[1;33m)\u001b[0m\u001b[1;33m\u001b[0m\u001b[0m\n\u001b[0m",
      "\u001b[1;31mNameError\u001b[0m: name 'train' is not defined"
     ]
    }
   ],
   "source": [
    "100 * float(train['totals_transactionRevenue'].isnull().sum())/len(train['totals_transactionRevenue'])"
   ]
  },
  {
   "cell_type": "markdown",
   "metadata": {},
   "source": [
    "#### Data Snapshot\n"
   ]
  },
  {
   "cell_type": "code",
   "execution_count": 37,
   "metadata": {},
   "outputs": [
    {
     "data": {
      "text/html": [
       "<div>\n",
       "<style scoped>\n",
       "    .dataframe tbody tr th:only-of-type {\n",
       "        vertical-align: middle;\n",
       "    }\n",
       "\n",
       "    .dataframe tbody tr th {\n",
       "        vertical-align: top;\n",
       "    }\n",
       "\n",
       "    .dataframe thead th {\n",
       "        text-align: right;\n",
       "    }\n",
       "</style>\n",
       "<table border=\"1\" class=\"dataframe\">\n",
       "  <thead>\n",
       "    <tr style=\"text-align: right;\">\n",
       "      <th></th>\n",
       "      <th>channelGrouping</th>\n",
       "      <th>data_source</th>\n",
       "      <th>date</th>\n",
       "      <th>device_browser</th>\n",
       "      <th>device_browserSize</th>\n",
       "      <th>device_browserVersion</th>\n",
       "      <th>device_deviceCategory</th>\n",
       "      <th>device_flashVersion</th>\n",
       "      <th>device_isMobile</th>\n",
       "      <th>device_language</th>\n",
       "      <th>...</th>\n",
       "      <th>trafficSource_campaign</th>\n",
       "      <th>trafficSource_campaignCode</th>\n",
       "      <th>trafficSource_isTrueDirect</th>\n",
       "      <th>trafficSource_keyword</th>\n",
       "      <th>trafficSource_medium</th>\n",
       "      <th>trafficSource_referralPath</th>\n",
       "      <th>trafficSource_source</th>\n",
       "      <th>visitId</th>\n",
       "      <th>visitNumber</th>\n",
       "      <th>visitStartTime</th>\n",
       "    </tr>\n",
       "  </thead>\n",
       "  <tbody>\n",
       "    <tr>\n",
       "      <th>0</th>\n",
       "      <td>Organic Search</td>\n",
       "      <td>train</td>\n",
       "      <td>20160902</td>\n",
       "      <td>Chrome</td>\n",
       "      <td>not available in demo dataset</td>\n",
       "      <td>not available in demo dataset</td>\n",
       "      <td>desktop</td>\n",
       "      <td>not available in demo dataset</td>\n",
       "      <td>False</td>\n",
       "      <td>not available in demo dataset</td>\n",
       "      <td>...</td>\n",
       "      <td>(not set)</td>\n",
       "      <td>NaN</td>\n",
       "      <td>NaN</td>\n",
       "      <td>(not provided)</td>\n",
       "      <td>organic</td>\n",
       "      <td>NaN</td>\n",
       "      <td>google</td>\n",
       "      <td>1472830385</td>\n",
       "      <td>1</td>\n",
       "      <td>1472830385</td>\n",
       "    </tr>\n",
       "    <tr>\n",
       "      <th>1</th>\n",
       "      <td>Organic Search</td>\n",
       "      <td>train</td>\n",
       "      <td>20160902</td>\n",
       "      <td>Firefox</td>\n",
       "      <td>not available in demo dataset</td>\n",
       "      <td>not available in demo dataset</td>\n",
       "      <td>desktop</td>\n",
       "      <td>not available in demo dataset</td>\n",
       "      <td>False</td>\n",
       "      <td>not available in demo dataset</td>\n",
       "      <td>...</td>\n",
       "      <td>(not set)</td>\n",
       "      <td>NaN</td>\n",
       "      <td>NaN</td>\n",
       "      <td>(not provided)</td>\n",
       "      <td>organic</td>\n",
       "      <td>NaN</td>\n",
       "      <td>google</td>\n",
       "      <td>1472880147</td>\n",
       "      <td>1</td>\n",
       "      <td>1472880147</td>\n",
       "    </tr>\n",
       "    <tr>\n",
       "      <th>2</th>\n",
       "      <td>Organic Search</td>\n",
       "      <td>train</td>\n",
       "      <td>20160902</td>\n",
       "      <td>Chrome</td>\n",
       "      <td>not available in demo dataset</td>\n",
       "      <td>not available in demo dataset</td>\n",
       "      <td>desktop</td>\n",
       "      <td>not available in demo dataset</td>\n",
       "      <td>False</td>\n",
       "      <td>not available in demo dataset</td>\n",
       "      <td>...</td>\n",
       "      <td>(not set)</td>\n",
       "      <td>NaN</td>\n",
       "      <td>NaN</td>\n",
       "      <td>(not provided)</td>\n",
       "      <td>organic</td>\n",
       "      <td>NaN</td>\n",
       "      <td>google</td>\n",
       "      <td>1472865386</td>\n",
       "      <td>1</td>\n",
       "      <td>1472865386</td>\n",
       "    </tr>\n",
       "    <tr>\n",
       "      <th>3</th>\n",
       "      <td>Organic Search</td>\n",
       "      <td>train</td>\n",
       "      <td>20160902</td>\n",
       "      <td>UC Browser</td>\n",
       "      <td>not available in demo dataset</td>\n",
       "      <td>not available in demo dataset</td>\n",
       "      <td>desktop</td>\n",
       "      <td>not available in demo dataset</td>\n",
       "      <td>False</td>\n",
       "      <td>not available in demo dataset</td>\n",
       "      <td>...</td>\n",
       "      <td>(not set)</td>\n",
       "      <td>NaN</td>\n",
       "      <td>NaN</td>\n",
       "      <td>google + online</td>\n",
       "      <td>organic</td>\n",
       "      <td>NaN</td>\n",
       "      <td>google</td>\n",
       "      <td>1472881213</td>\n",
       "      <td>1</td>\n",
       "      <td>1472881213</td>\n",
       "    </tr>\n",
       "    <tr>\n",
       "      <th>4</th>\n",
       "      <td>Organic Search</td>\n",
       "      <td>train</td>\n",
       "      <td>20160902</td>\n",
       "      <td>Chrome</td>\n",
       "      <td>not available in demo dataset</td>\n",
       "      <td>not available in demo dataset</td>\n",
       "      <td>mobile</td>\n",
       "      <td>not available in demo dataset</td>\n",
       "      <td>True</td>\n",
       "      <td>not available in demo dataset</td>\n",
       "      <td>...</td>\n",
       "      <td>(not set)</td>\n",
       "      <td>NaN</td>\n",
       "      <td>True</td>\n",
       "      <td>(not provided)</td>\n",
       "      <td>organic</td>\n",
       "      <td>NaN</td>\n",
       "      <td>google</td>\n",
       "      <td>1472822600</td>\n",
       "      <td>2</td>\n",
       "      <td>1472822600</td>\n",
       "    </tr>\n",
       "  </tbody>\n",
       "</table>\n",
       "<p>5 rows × 56 columns</p>\n",
       "</div>"
      ],
      "text/plain": [
       "  channelGrouping data_source      date device_browser  \\\n",
       "0  Organic Search       train  20160902         Chrome   \n",
       "1  Organic Search       train  20160902        Firefox   \n",
       "2  Organic Search       train  20160902         Chrome   \n",
       "3  Organic Search       train  20160902     UC Browser   \n",
       "4  Organic Search       train  20160902         Chrome   \n",
       "\n",
       "              device_browserSize          device_browserVersion  \\\n",
       "0  not available in demo dataset  not available in demo dataset   \n",
       "1  not available in demo dataset  not available in demo dataset   \n",
       "2  not available in demo dataset  not available in demo dataset   \n",
       "3  not available in demo dataset  not available in demo dataset   \n",
       "4  not available in demo dataset  not available in demo dataset   \n",
       "\n",
       "  device_deviceCategory            device_flashVersion  device_isMobile  \\\n",
       "0               desktop  not available in demo dataset            False   \n",
       "1               desktop  not available in demo dataset            False   \n",
       "2               desktop  not available in demo dataset            False   \n",
       "3               desktop  not available in demo dataset            False   \n",
       "4                mobile  not available in demo dataset             True   \n",
       "\n",
       "                 device_language      ...       trafficSource_campaign  \\\n",
       "0  not available in demo dataset      ...                    (not set)   \n",
       "1  not available in demo dataset      ...                    (not set)   \n",
       "2  not available in demo dataset      ...                    (not set)   \n",
       "3  not available in demo dataset      ...                    (not set)   \n",
       "4  not available in demo dataset      ...                    (not set)   \n",
       "\n",
       "  trafficSource_campaignCode trafficSource_isTrueDirect trafficSource_keyword  \\\n",
       "0                        NaN                        NaN        (not provided)   \n",
       "1                        NaN                        NaN        (not provided)   \n",
       "2                        NaN                        NaN        (not provided)   \n",
       "3                        NaN                        NaN       google + online   \n",
       "4                        NaN                       True        (not provided)   \n",
       "\n",
       "  trafficSource_medium trafficSource_referralPath trafficSource_source  \\\n",
       "0              organic                        NaN               google   \n",
       "1              organic                        NaN               google   \n",
       "2              organic                        NaN               google   \n",
       "3              organic                        NaN               google   \n",
       "4              organic                        NaN               google   \n",
       "\n",
       "      visitId visitNumber visitStartTime  \n",
       "0  1472830385           1     1472830385  \n",
       "1  1472880147           1     1472880147  \n",
       "2  1472865386           1     1472865386  \n",
       "3  1472881213           1     1472881213  \n",
       "4  1472822600           2     1472822600  \n",
       "\n",
       "[5 rows x 56 columns]"
      ]
     },
     "execution_count": 37,
     "metadata": {},
     "output_type": "execute_result"
    }
   ],
   "source": [
    "#all_data.drop([u'Unnamed: 0'], axis = 1, inplace = True)\n",
    "all_data.head()"
   ]
  },
  {
   "cell_type": "code",
   "execution_count": 20,
   "metadata": {},
   "outputs": [
    {
     "ename": "NameError",
     "evalue": "name 'all_data' is not defined",
     "output_type": "error",
     "traceback": [
      "\u001b[1;31m---------------------------------------------------------------------------\u001b[0m",
      "\u001b[1;31mNameError\u001b[0m                                 Traceback (most recent call last)",
      "\u001b[1;32m<ipython-input-20-2e6238470322>\u001b[0m in \u001b[0;36m<module>\u001b[1;34m()\u001b[0m\n\u001b[0;32m      1\u001b[0m \u001b[1;31m#### Distribution of the response variable\u001b[0m\u001b[1;33m\u001b[0m\u001b[1;33m\u001b[0m\u001b[0m\n\u001b[1;32m----> 2\u001b[1;33m \u001b[0mall_data\u001b[0m\u001b[1;33m.\u001b[0m\u001b[0mvisitNumber\u001b[0m\u001b[1;33m.\u001b[0m\u001b[0mdescribe\u001b[0m\u001b[1;33m(\u001b[0m\u001b[1;33m)\u001b[0m\u001b[1;33m\u001b[0m\u001b[0m\n\u001b[0m",
      "\u001b[1;31mNameError\u001b[0m: name 'all_data' is not defined"
     ]
    }
   ],
   "source": [
    "#### Distribution of the 'visitNumber' variable\n",
    "all_data.visitNumber.describe()"
   ]
  },
  {
   "cell_type": "markdown",
   "metadata": {},
   "source": [
    "#### Response variable"
   ]
  },
  {
   "cell_type": "code",
   "execution_count": 56,
   "metadata": {},
   "outputs": [
    {
     "data": {
      "text/plain": [
       "count    1.151500e+04\n",
       "mean     1.337448e+08\n",
       "std      4.482852e+08\n",
       "min      1.000000e+04\n",
       "25%      2.493000e+07\n",
       "50%      4.945000e+07\n",
       "75%      1.076550e+08\n",
       "max      2.312950e+10\n",
       "Name: totals_transactionRevenue, dtype: float64"
      ]
     },
     "execution_count": 56,
     "metadata": {},
     "output_type": "execute_result"
    }
   ],
   "source": [
    "all_data['totals_transactionRevenue'] = pd.to_numeric(all_data['totals_transactionRevenue'])\n",
    "all_data['totals_transactionRevenue'].describe()"
   ]
  },
  {
   "cell_type": "markdown",
   "metadata": {},
   "source": [
    "#### Distribution of other columns apart from Response variable"
   ]
  },
  {
   "cell_type": "code",
   "execution_count": 21,
   "metadata": {},
   "outputs": [
    {
     "ename": "NameError",
     "evalue": "name 'all_data_upd' is not defined",
     "output_type": "error",
     "traceback": [
      "\u001b[1;31m---------------------------------------------------------------------------\u001b[0m",
      "\u001b[1;31mNameError\u001b[0m                                 Traceback (most recent call last)",
      "\u001b[1;32m<ipython-input-21-3e03f0661f14>\u001b[0m in \u001b[0;36m<module>\u001b[1;34m()\u001b[0m\n\u001b[1;32m----> 1\u001b[1;33m \u001b[1;32mfor\u001b[0m \u001b[0meach\u001b[0m \u001b[1;32min\u001b[0m \u001b[0mall_data_upd\u001b[0m\u001b[1;33m.\u001b[0m\u001b[0mcolumns\u001b[0m\u001b[1;33m:\u001b[0m\u001b[1;33m\u001b[0m\u001b[0m\n\u001b[0m\u001b[0;32m      2\u001b[0m     \u001b[0mprint\u001b[0m\u001b[1;33m(\u001b[0m\u001b[0meach\u001b[0m\u001b[1;33m)\u001b[0m\u001b[1;33m\u001b[0m\u001b[0m\n\u001b[0;32m      3\u001b[0m     \u001b[0mprint\u001b[0m\u001b[1;33m(\u001b[0m\u001b[0mall_data_upd\u001b[0m\u001b[1;33m[\u001b[0m\u001b[0meach\u001b[0m\u001b[1;33m]\u001b[0m\u001b[1;33m.\u001b[0m\u001b[0mvalue_counts\u001b[0m\u001b[1;33m(\u001b[0m\u001b[1;33m)\u001b[0m\u001b[1;33m)\u001b[0m\u001b[1;33m\u001b[0m\u001b[0m\n\u001b[0;32m      4\u001b[0m     \u001b[0mprint\u001b[0m\u001b[1;33m(\u001b[0m\u001b[1;34m\"\\n\"\u001b[0m\u001b[1;33m)\u001b[0m\u001b[1;33m\u001b[0m\u001b[0m\n",
      "\u001b[1;31mNameError\u001b[0m: name 'all_data_upd' is not defined"
     ]
    }
   ],
   "source": [
    "for each in all_data_upd.columns:\n",
    "    print(each)\n",
    "    print(all_data_upd[each].value_counts())\n",
    "    print(\"\\n\")"
   ]
  },
  {
   "cell_type": "markdown",
   "metadata": {},
   "source": [
    "## 3. Data Pre-processing"
   ]
  },
  {
   "cell_type": "markdown",
   "metadata": {},
   "source": [
    "#### Finding columns with just one value in it\n",
    "\n",
    "Finding the columns with  <br>\n",
    "i) If the number of unique values is just one <br>\n",
    "ii) More than 50% of NA values <br><br>\n",
    "\n",
    "Dropping such columns\n",
    "\n"
   ]
  },
  {
   "cell_type": "code",
   "execution_count": 55,
   "metadata": {},
   "outputs": [],
   "source": [
    "### Selecting columns with just one unique value and those with NULL values greater than 50% of the dataset\n",
    "drop_columns = [each for each in all_data.columns if len(train[each].unique()) <= 2 or all_data[each].isnull().sum() > 0.5 * all_data.shape[0]]\n",
    "drop_columns = [each for each in drop_columns if each not in ['totals_transactionRevenue','data_source']]"
   ]
  },
  {
   "cell_type": "code",
   "execution_count": 57,
   "metadata": {},
   "outputs": [],
   "source": [
    "all_data_upd = all_data.drop(drop_columns, axis = 1)"
   ]
  },
  {
   "cell_type": "markdown",
   "metadata": {},
   "source": [
    "#### Feature Engineering: Creating date variables"
   ]
  },
  {
   "cell_type": "code",
   "execution_count": 59,
   "metadata": {},
   "outputs": [],
   "source": [
    "all_data_upd['year'] = all_data_upd.date.apply(lambda x: int(str(x)[0:4]))\n",
    "all_data_upd['month'] = all_data_upd.date.apply(lambda x: int(str(x)[4:6]))\n",
    "all_data_upd['day'] = all_data_upd.date.apply(lambda x: int(str(x)[6:8]))"
   ]
  },
  {
   "cell_type": "markdown",
   "metadata": {},
   "source": [
    "#### Cleaning and imputing train and test separately - since we do not want to use the test data to impute the training data"
   ]
  },
  {
   "cell_type": "code",
   "execution_count": 60,
   "metadata": {},
   "outputs": [
    {
     "name": "stdout",
     "output_type": "stream",
     "text": [
      "(903653, 27)\n",
      "(804684, 27)\n"
     ]
    }
   ],
   "source": [
    "train_upd = all_data_upd[all_data_upd.data_source == 'train']\n",
    "test_upd = all_data_upd[all_data_upd.data_source == 'test']\n",
    "\n",
    "print(train_upd.shape)\n",
    "print(test_upd.shape)"
   ]
  },
  {
   "cell_type": "markdown",
   "metadata": {},
   "source": [
    "Viewing Training dataset"
   ]
  },
  {
   "cell_type": "code",
   "execution_count": 61,
   "metadata": {},
   "outputs": [
    {
     "data": {
      "text/html": [
       "<div>\n",
       "<style scoped>\n",
       "    .dataframe tbody tr th:only-of-type {\n",
       "        vertical-align: middle;\n",
       "    }\n",
       "\n",
       "    .dataframe tbody tr th {\n",
       "        vertical-align: top;\n",
       "    }\n",
       "\n",
       "    .dataframe thead th {\n",
       "        text-align: right;\n",
       "    }\n",
       "</style>\n",
       "<table border=\"1\" class=\"dataframe\">\n",
       "  <thead>\n",
       "    <tr style=\"text-align: right;\">\n",
       "      <th></th>\n",
       "      <th>channelGrouping</th>\n",
       "      <th>data_source</th>\n",
       "      <th>date</th>\n",
       "      <th>device_browser</th>\n",
       "      <th>device_deviceCategory</th>\n",
       "      <th>device_operatingSystem</th>\n",
       "      <th>fullVisitorId</th>\n",
       "      <th>geoNetwork_city</th>\n",
       "      <th>geoNetwork_continent</th>\n",
       "      <th>geoNetwork_country</th>\n",
       "      <th>...</th>\n",
       "      <th>totals_transactionRevenue</th>\n",
       "      <th>trafficSource_campaign</th>\n",
       "      <th>trafficSource_medium</th>\n",
       "      <th>trafficSource_source</th>\n",
       "      <th>visitId</th>\n",
       "      <th>visitNumber</th>\n",
       "      <th>visitStartTime</th>\n",
       "      <th>year</th>\n",
       "      <th>month</th>\n",
       "      <th>day</th>\n",
       "    </tr>\n",
       "  </thead>\n",
       "  <tbody>\n",
       "    <tr>\n",
       "      <th>0</th>\n",
       "      <td>Organic Search</td>\n",
       "      <td>train</td>\n",
       "      <td>20160902</td>\n",
       "      <td>Chrome</td>\n",
       "      <td>desktop</td>\n",
       "      <td>Windows</td>\n",
       "      <td>1131660440785968503</td>\n",
       "      <td>Izmir</td>\n",
       "      <td>Asia</td>\n",
       "      <td>Turkey</td>\n",
       "      <td>...</td>\n",
       "      <td>NaN</td>\n",
       "      <td>(not set)</td>\n",
       "      <td>organic</td>\n",
       "      <td>google</td>\n",
       "      <td>1472830385</td>\n",
       "      <td>1</td>\n",
       "      <td>1472830385</td>\n",
       "      <td>2016</td>\n",
       "      <td>9</td>\n",
       "      <td>2</td>\n",
       "    </tr>\n",
       "    <tr>\n",
       "      <th>1</th>\n",
       "      <td>Organic Search</td>\n",
       "      <td>train</td>\n",
       "      <td>20160902</td>\n",
       "      <td>Firefox</td>\n",
       "      <td>desktop</td>\n",
       "      <td>Macintosh</td>\n",
       "      <td>377306020877927890</td>\n",
       "      <td>not available in demo dataset</td>\n",
       "      <td>Oceania</td>\n",
       "      <td>Australia</td>\n",
       "      <td>...</td>\n",
       "      <td>NaN</td>\n",
       "      <td>(not set)</td>\n",
       "      <td>organic</td>\n",
       "      <td>google</td>\n",
       "      <td>1472880147</td>\n",
       "      <td>1</td>\n",
       "      <td>1472880147</td>\n",
       "      <td>2016</td>\n",
       "      <td>9</td>\n",
       "      <td>2</td>\n",
       "    </tr>\n",
       "    <tr>\n",
       "      <th>2</th>\n",
       "      <td>Organic Search</td>\n",
       "      <td>train</td>\n",
       "      <td>20160902</td>\n",
       "      <td>Chrome</td>\n",
       "      <td>desktop</td>\n",
       "      <td>Windows</td>\n",
       "      <td>3895546263509774583</td>\n",
       "      <td>Madrid</td>\n",
       "      <td>Europe</td>\n",
       "      <td>Spain</td>\n",
       "      <td>...</td>\n",
       "      <td>NaN</td>\n",
       "      <td>(not set)</td>\n",
       "      <td>organic</td>\n",
       "      <td>google</td>\n",
       "      <td>1472865386</td>\n",
       "      <td>1</td>\n",
       "      <td>1472865386</td>\n",
       "      <td>2016</td>\n",
       "      <td>9</td>\n",
       "      <td>2</td>\n",
       "    </tr>\n",
       "    <tr>\n",
       "      <th>3</th>\n",
       "      <td>Organic Search</td>\n",
       "      <td>train</td>\n",
       "      <td>20160902</td>\n",
       "      <td>UC Browser</td>\n",
       "      <td>desktop</td>\n",
       "      <td>Linux</td>\n",
       "      <td>4763447161404445595</td>\n",
       "      <td>not available in demo dataset</td>\n",
       "      <td>Asia</td>\n",
       "      <td>Indonesia</td>\n",
       "      <td>...</td>\n",
       "      <td>NaN</td>\n",
       "      <td>(not set)</td>\n",
       "      <td>organic</td>\n",
       "      <td>google</td>\n",
       "      <td>1472881213</td>\n",
       "      <td>1</td>\n",
       "      <td>1472881213</td>\n",
       "      <td>2016</td>\n",
       "      <td>9</td>\n",
       "      <td>2</td>\n",
       "    </tr>\n",
       "    <tr>\n",
       "      <th>4</th>\n",
       "      <td>Organic Search</td>\n",
       "      <td>train</td>\n",
       "      <td>20160902</td>\n",
       "      <td>Chrome</td>\n",
       "      <td>mobile</td>\n",
       "      <td>Android</td>\n",
       "      <td>27294437909732085</td>\n",
       "      <td>not available in demo dataset</td>\n",
       "      <td>Europe</td>\n",
       "      <td>United Kingdom</td>\n",
       "      <td>...</td>\n",
       "      <td>NaN</td>\n",
       "      <td>(not set)</td>\n",
       "      <td>organic</td>\n",
       "      <td>google</td>\n",
       "      <td>1472822600</td>\n",
       "      <td>2</td>\n",
       "      <td>1472822600</td>\n",
       "      <td>2016</td>\n",
       "      <td>9</td>\n",
       "      <td>2</td>\n",
       "    </tr>\n",
       "  </tbody>\n",
       "</table>\n",
       "<p>5 rows × 27 columns</p>\n",
       "</div>"
      ],
      "text/plain": [
       "  channelGrouping data_source      date device_browser device_deviceCategory  \\\n",
       "0  Organic Search       train  20160902         Chrome               desktop   \n",
       "1  Organic Search       train  20160902        Firefox               desktop   \n",
       "2  Organic Search       train  20160902         Chrome               desktop   \n",
       "3  Organic Search       train  20160902     UC Browser               desktop   \n",
       "4  Organic Search       train  20160902         Chrome                mobile   \n",
       "\n",
       "  device_operatingSystem        fullVisitorId                geoNetwork_city  \\\n",
       "0                Windows  1131660440785968503                          Izmir   \n",
       "1              Macintosh   377306020877927890  not available in demo dataset   \n",
       "2                Windows  3895546263509774583                         Madrid   \n",
       "3                  Linux  4763447161404445595  not available in demo dataset   \n",
       "4                Android    27294437909732085  not available in demo dataset   \n",
       "\n",
       "  geoNetwork_continent geoNetwork_country ... totals_transactionRevenue  \\\n",
       "0                 Asia             Turkey ...                       NaN   \n",
       "1              Oceania          Australia ...                       NaN   \n",
       "2               Europe              Spain ...                       NaN   \n",
       "3                 Asia          Indonesia ...                       NaN   \n",
       "4               Europe     United Kingdom ...                       NaN   \n",
       "\n",
       "  trafficSource_campaign trafficSource_medium trafficSource_source  \\\n",
       "0              (not set)              organic               google   \n",
       "1              (not set)              organic               google   \n",
       "2              (not set)              organic               google   \n",
       "3              (not set)              organic               google   \n",
       "4              (not set)              organic               google   \n",
       "\n",
       "      visitId  visitNumber  visitStartTime  year month day  \n",
       "0  1472830385            1      1472830385  2016     9   2  \n",
       "1  1472880147            1      1472880147  2016     9   2  \n",
       "2  1472865386            1      1472865386  2016     9   2  \n",
       "3  1472881213            1      1472881213  2016     9   2  \n",
       "4  1472822600            2      1472822600  2016     9   2  \n",
       "\n",
       "[5 rows x 27 columns]"
      ]
     },
     "execution_count": 61,
     "metadata": {},
     "output_type": "execute_result"
    }
   ],
   "source": [
    "train_upd.head()"
   ]
  },
  {
   "cell_type": "markdown",
   "metadata": {},
   "source": [
    "#### Imputation for Trainining dataset"
   ]
  },
  {
   "cell_type": "code",
   "execution_count": 62,
   "metadata": {},
   "outputs": [
    {
     "name": "stdout",
     "output_type": "stream",
     "text": [
      "channelGrouping\n",
      "8\n"
     ]
    },
    {
     "name": "stderr",
     "output_type": "stream",
     "text": [
      "C:\\Users\\arvra\\Anaconda3\\lib\\site-packages\\pandas\\core\\indexing.py:537: SettingWithCopyWarning: \n",
      "A value is trying to be set on a copy of a slice from a DataFrame.\n",
      "Try using .loc[row_indexer,col_indexer] = value instead\n",
      "\n",
      "See the caveats in the documentation: http://pandas.pydata.org/pandas-docs/stable/indexing.html#indexing-view-versus-copy\n",
      "  self.obj[item] = s\n"
     ]
    },
    {
     "name": "stdout",
     "output_type": "stream",
     "text": [
      "device_browser\n",
      "54\n",
      "device_deviceCategory\n",
      "3\n",
      "device_operatingSystem\n",
      "20\n",
      "geoNetwork_city\n",
      "649\n",
      "geoNetwork_continent\n",
      "6\n",
      "geoNetwork_country\n",
      "222\n",
      "geoNetwork_metro\n",
      "94\n",
      "geoNetwork_networkDomain\n",
      "28064\n",
      "geoNetwork_region\n",
      "376\n",
      "geoNetwork_subContinent\n",
      "23\n",
      "trafficSource_campaign\n",
      "10\n",
      "trafficSource_medium\n",
      "7\n",
      "trafficSource_source\n",
      "380\n"
     ]
    }
   ],
   "source": [
    "## Cleaning the character columns in the data\n",
    "\n",
    "#Float columns\n",
    "float_cols = []\n",
    "\n",
    "\n",
    "for each in train_upd.columns:\n",
    "    \n",
    "    if(each == 'data_source'):\n",
    "        continue\n",
    "        \n",
    "    if(train_upd[each].dtype == 'O' and len(train_upd[each].unique()) < 500000):\n",
    "        print(each)\n",
    "        ### Skipping the values are actually numeric or float\n",
    "        \n",
    "        if( not (len(pd.to_numeric(train_upd[each],errors = 'coerce').unique()) < 0.5 * len(train_upd[each].unique())) ):\n",
    "            \n",
    "            train_upd.loc[:,each] = train_upd[each].fillna(train_upd[each].mean())\n",
    "            float_cols.append(each)\n",
    "            \n",
    "        else:\n",
    "\n",
    "\n",
    "            print(len(train_upd[each].unique()))\n",
    "            train_upd.loc[:,each] = train_upd[each].apply(lambda x: x.lower().strip())\n",
    "            extreme_values = train_upd[each].value_counts()[train_upd[each].value_counts() < 10].index\n",
    "\n",
    "            ## Replacing the outliers (extreme) values with 'Others'\n",
    "\n",
    "            train_upd.loc[:,each] = train_upd[each].apply(lambda x: np.where(x in extreme_values, 'Others',x))"
   ]
  },
  {
   "cell_type": "markdown",
   "metadata": {},
   "source": [
    "#### Imputation for Test dataset"
   ]
  },
  {
   "cell_type": "code",
   "execution_count": 63,
   "metadata": {},
   "outputs": [
    {
     "name": "stdout",
     "output_type": "stream",
     "text": [
      "channelGrouping\n",
      "8\n"
     ]
    },
    {
     "name": "stderr",
     "output_type": "stream",
     "text": [
      "C:\\Users\\arvra\\Anaconda3\\lib\\site-packages\\ipykernel_launcher.py:22: SettingWithCopyWarning: \n",
      "A value is trying to be set on a copy of a slice from a DataFrame.\n",
      "Try using .loc[row_indexer,col_indexer] = value instead\n",
      "\n",
      "See the caveats in the documentation: http://pandas.pydata.org/pandas-docs/stable/indexing.html#indexing-view-versus-copy\n",
      "C:\\Users\\arvra\\Anaconda3\\lib\\site-packages\\ipykernel_launcher.py:27: SettingWithCopyWarning: \n",
      "A value is trying to be set on a copy of a slice from a DataFrame.\n",
      "Try using .loc[row_indexer,col_indexer] = value instead\n",
      "\n",
      "See the caveats in the documentation: http://pandas.pydata.org/pandas-docs/stable/indexing.html#indexing-view-versus-copy\n"
     ]
    },
    {
     "name": "stdout",
     "output_type": "stream",
     "text": [
      "date\n",
      "device_browser\n",
      "27\n",
      "device_deviceCategory\n",
      "3\n",
      "device_operatingSystem\n",
      "15\n",
      "fullVisitorId\n",
      "geoNetwork_city\n",
      "482\n",
      "geoNetwork_continent\n",
      "6\n",
      "geoNetwork_country\n",
      "188\n",
      "geoNetwork_metro\n",
      "79\n",
      "geoNetwork_networkDomain\n",
      "3017\n",
      "geoNetwork_region\n",
      "318\n",
      "geoNetwork_subContinent\n",
      "23\n",
      "sessionId\n",
      "totals_hits\n",
      "totals_pageviews\n",
      "totals_transactionRevenue\n",
      "trafficSource_campaign\n",
      "9\n",
      "trafficSource_medium\n",
      "7\n",
      "trafficSource_source\n",
      "124\n",
      "visitId\n",
      "visitNumber\n",
      "visitStartTime\n",
      "year\n",
      "month\n",
      "day\n"
     ]
    }
   ],
   "source": [
    "## Cleaning the character columns in the data\n",
    "\n",
    "for each in test_upd.columns:\n",
    "    \n",
    "    \n",
    "    if(each == 'data_source'):\n",
    "        continue\n",
    "    \n",
    "    print(each)\n",
    "    if(test_upd[each].dtype == 'O' and len(test_upd[each].unique()) < 500000):\n",
    "            \n",
    "        ### Skipping the values are actually numeric or float\n",
    "        \n",
    "        ### Identifying the columns as numeric/float as per the training data\n",
    "        if(each in float_cols):\n",
    "            \n",
    "            train_upd[each] = train_upd[each].fillna(train_upd[each].mean())\n",
    "        else:\n",
    "\n",
    "\n",
    "            print(len(train_upd[each].unique()))\n",
    "            train_upd[each] = train_upd[each].apply(lambda x: x.lower().strip())\n",
    "            extreme_values = train_upd[each].value_counts()[train_upd[each].value_counts() < 10].index\n",
    "\n",
    "            ## Replacing the outliers (extreme) values with 'Others'\n",
    "\n",
    "            train_upd[each] = train_upd[each].apply(lambda x: np.where(x in extreme_values, 'Others',x))"
   ]
  },
  {
   "cell_type": "markdown",
   "metadata": {},
   "source": [
    "#### Combining the data again"
   ]
  },
  {
   "cell_type": "code",
   "execution_count": 64,
   "metadata": {},
   "outputs": [],
   "source": [
    "all_data_upd = pd.concat([train_upd,test_upd], axis = 0)"
   ]
  },
  {
   "cell_type": "code",
   "execution_count": 22,
   "metadata": {},
   "outputs": [
    {
     "ename": "NameError",
     "evalue": "name 'all_data_upd' is not defined",
     "output_type": "error",
     "traceback": [
      "\u001b[1;31m---------------------------------------------------------------------------\u001b[0m",
      "\u001b[1;31mNameError\u001b[0m                                 Traceback (most recent call last)",
      "\u001b[1;32m<ipython-input-22-322dfccf5379>\u001b[0m in \u001b[0;36m<module>\u001b[1;34m()\u001b[0m\n\u001b[0;32m      3\u001b[0m \u001b[1;33m\u001b[0m\u001b[0m\n\u001b[0;32m      4\u001b[0m \u001b[1;31m## Dropping such columns\u001b[0m\u001b[1;33m\u001b[0m\u001b[1;33m\u001b[0m\u001b[0m\n\u001b[1;32m----> 5\u001b[1;33m all_data_upd = all_data_upd.drop(['device_browser','geoNetwork_metro','geoNetwork_networkDomain','geoNetwork_region',\n\u001b[0m\u001b[0;32m      6\u001b[0m                                   'trafficSource_source','geoNetwork_city','geoNetwork_country'], axis = 1)\n\u001b[0;32m      7\u001b[0m \u001b[1;33m\u001b[0m\u001b[0m\n",
      "\u001b[1;31mNameError\u001b[0m: name 'all_data_upd' is not defined"
     ]
    }
   ],
   "source": [
    "## Removing all the columns that has more than ~200 distinct objects\n",
    "#(since those will create multiple columns while creating one hot vectors)\n",
    "\n",
    "## Dropping such columns\n",
    "all_data_upd = all_data_upd.drop(['device_browser','geoNetwork_metro','geoNetwork_networkDomain','geoNetwork_region',\n",
    "                                  'trafficSource_source','geoNetwork_city','geoNetwork_country'], axis = 1)\n",
    "\n",
    "## Getting the datashape\n",
    "all_data_upd.shape"
   ]
  },
  {
   "cell_type": "code",
   "execution_count": 68,
   "metadata": {},
   "outputs": [],
   "source": [
    "all_data_upd['totals_transactionRevenue'] = all_data_upd['totals_transactionRevenue'].fillna(0)\n",
    "all_data_upd = all_data_upd.fillna(0)"
   ]
  },
  {
   "cell_type": "code",
   "execution_count": 69,
   "metadata": {},
   "outputs": [],
   "source": [
    "### Removing id columns\n",
    "id_cols = ['sessionId','fullVisitorId','visitId','date']\n",
    "all_data_dummies = pd.get_dummies(all_data_upd.drop(id_cols, axis = 1), dummy_na = True)"
   ]
  },
  {
   "cell_type": "code",
   "execution_count": 70,
   "metadata": {},
   "outputs": [
    {
     "data": {
      "text/plain": [
       "(1708337, 175)"
      ]
     },
     "execution_count": 70,
     "metadata": {},
     "output_type": "execute_result"
    }
   ],
   "source": [
    "all_data_dummies.shape"
   ]
  },
  {
   "cell_type": "markdown",
   "metadata": {},
   "source": [
    "#### Saving the transformed train data"
   ]
  },
  {
   "cell_type": "code",
   "execution_count": 2,
   "metadata": {},
   "outputs": [],
   "source": [
    "#all_data_dummies.to_csv('all_data_dummies.csv', index = False, encoding = 'utf8')\n",
    "all_data_dummies = pd.read_csv(\"all_data_dummies.csv\", encoding = 'utf8')"
   ]
  },
  {
   "cell_type": "code",
   "execution_count": 3,
   "metadata": {},
   "outputs": [
    {
     "data": {
      "text/plain": [
       "(1708337, 175)"
      ]
     },
     "execution_count": 3,
     "metadata": {},
     "output_type": "execute_result"
    }
   ],
   "source": [
    "all_data_dummies.shape"
   ]
  },
  {
   "cell_type": "markdown",
   "metadata": {},
   "source": [
    "#### Dividing the data into train and test"
   ]
  },
  {
   "cell_type": "code",
   "execution_count": 5,
   "metadata": {},
   "outputs": [],
   "source": [
    "train_dummies = all_data_dummies[all_data_dummies.data_source_train == 1]\n",
    "test_dummies = all_data_dummies[all_data_dummies.data_source_test == 1]\n",
    "\n",
    "# train_dummies = all_data_upd[all_data_upd.data_source == 'train']\n",
    "# test_dummies = all_data_upd[all_data_upd.data_source == 'test']"
   ]
  },
  {
   "cell_type": "markdown",
   "metadata": {},
   "source": [
    "### Creating the dataset that is model-ready"
   ]
  },
  {
   "cell_type": "code",
   "execution_count": null,
   "metadata": {},
   "outputs": [],
   "source": [
    "train_dummies = train_dummies.drop(['data_source_train','data_source_test','data_source_nan'], axis = 1)\n",
    "test_dummies = test_dummies.drop(['data_source_train','data_source_test','data_source_nan','totals_transactionRevenue'], axis = 1)\n",
    "\n",
    "#train_dummies = train_dummies.drop(['data_source'], axis = 1)\n",
    "#test_dummies = test_dummies.drop(['data_source','totals.transactionRevenue'], axis = 1)"
   ]
  },
  {
   "cell_type": "code",
   "execution_count": 7,
   "metadata": {},
   "outputs": [],
   "source": [
    "X_train, X_test, y_train, y_test = train_test_split(train_dummies.drop(['totals_transactionRevenue'], axis = 1), \\\n",
    "                  train_dummies['totals_transactionRevenue'],test_size = 0.2, random_state = 9)"
   ]
  },
  {
   "cell_type": "code",
   "execution_count": 8,
   "metadata": {},
   "outputs": [
    {
     "data": {
      "text/html": [
       "<div>\n",
       "<style scoped>\n",
       "    .dataframe tbody tr th:only-of-type {\n",
       "        vertical-align: middle;\n",
       "    }\n",
       "\n",
       "    .dataframe tbody tr th {\n",
       "        vertical-align: top;\n",
       "    }\n",
       "\n",
       "    .dataframe thead th {\n",
       "        text-align: right;\n",
       "    }\n",
       "</style>\n",
       "<table border=\"1\" class=\"dataframe\">\n",
       "  <thead>\n",
       "    <tr style=\"text-align: right;\">\n",
       "      <th></th>\n",
       "      <th>totals_hits</th>\n",
       "      <th>totals_pageviews</th>\n",
       "      <th>visitNumber</th>\n",
       "      <th>visitStartTime</th>\n",
       "      <th>year</th>\n",
       "      <th>month</th>\n",
       "      <th>day</th>\n",
       "      <th>channelGrouping_(Other)</th>\n",
       "      <th>channelGrouping_(other)</th>\n",
       "      <th>channelGrouping_Affiliates</th>\n",
       "      <th>...</th>\n",
       "      <th>trafficSource_campaign_test-liyuhz</th>\n",
       "      <th>trafficSource_campaign_nan</th>\n",
       "      <th>trafficSource_medium_(none)</th>\n",
       "      <th>trafficSource_medium_(not set)</th>\n",
       "      <th>trafficSource_medium_affiliate</th>\n",
       "      <th>trafficSource_medium_cpc</th>\n",
       "      <th>trafficSource_medium_cpm</th>\n",
       "      <th>trafficSource_medium_organic</th>\n",
       "      <th>trafficSource_medium_referral</th>\n",
       "      <th>trafficSource_medium_nan</th>\n",
       "    </tr>\n",
       "  </thead>\n",
       "  <tbody>\n",
       "    <tr>\n",
       "      <th>40485</th>\n",
       "      <td>4</td>\n",
       "      <td>4.0</td>\n",
       "      <td>1</td>\n",
       "      <td>1498884588</td>\n",
       "      <td>2017</td>\n",
       "      <td>6</td>\n",
       "      <td>30</td>\n",
       "      <td>0</td>\n",
       "      <td>0</td>\n",
       "      <td>0</td>\n",
       "      <td>...</td>\n",
       "      <td>0</td>\n",
       "      <td>0</td>\n",
       "      <td>0</td>\n",
       "      <td>0</td>\n",
       "      <td>0</td>\n",
       "      <td>0</td>\n",
       "      <td>0</td>\n",
       "      <td>0</td>\n",
       "      <td>1</td>\n",
       "      <td>0</td>\n",
       "    </tr>\n",
       "    <tr>\n",
       "      <th>784765</th>\n",
       "      <td>1</td>\n",
       "      <td>1.0</td>\n",
       "      <td>1</td>\n",
       "      <td>1501200752</td>\n",
       "      <td>2017</td>\n",
       "      <td>7</td>\n",
       "      <td>27</td>\n",
       "      <td>0</td>\n",
       "      <td>0</td>\n",
       "      <td>0</td>\n",
       "      <td>...</td>\n",
       "      <td>0</td>\n",
       "      <td>0</td>\n",
       "      <td>0</td>\n",
       "      <td>0</td>\n",
       "      <td>0</td>\n",
       "      <td>0</td>\n",
       "      <td>0</td>\n",
       "      <td>1</td>\n",
       "      <td>0</td>\n",
       "      <td>0</td>\n",
       "    </tr>\n",
       "    <tr>\n",
       "      <th>103499</th>\n",
       "      <td>1</td>\n",
       "      <td>1.0</td>\n",
       "      <td>1</td>\n",
       "      <td>1499169217</td>\n",
       "      <td>2017</td>\n",
       "      <td>7</td>\n",
       "      <td>4</td>\n",
       "      <td>0</td>\n",
       "      <td>0</td>\n",
       "      <td>0</td>\n",
       "      <td>...</td>\n",
       "      <td>0</td>\n",
       "      <td>0</td>\n",
       "      <td>0</td>\n",
       "      <td>0</td>\n",
       "      <td>0</td>\n",
       "      <td>0</td>\n",
       "      <td>0</td>\n",
       "      <td>1</td>\n",
       "      <td>0</td>\n",
       "      <td>0</td>\n",
       "    </tr>\n",
       "    <tr>\n",
       "      <th>363033</th>\n",
       "      <td>1</td>\n",
       "      <td>1.0</td>\n",
       "      <td>4</td>\n",
       "      <td>1482550584</td>\n",
       "      <td>2016</td>\n",
       "      <td>12</td>\n",
       "      <td>23</td>\n",
       "      <td>0</td>\n",
       "      <td>0</td>\n",
       "      <td>0</td>\n",
       "      <td>...</td>\n",
       "      <td>0</td>\n",
       "      <td>0</td>\n",
       "      <td>1</td>\n",
       "      <td>0</td>\n",
       "      <td>0</td>\n",
       "      <td>0</td>\n",
       "      <td>0</td>\n",
       "      <td>0</td>\n",
       "      <td>0</td>\n",
       "      <td>0</td>\n",
       "    </tr>\n",
       "    <tr>\n",
       "      <th>886064</th>\n",
       "      <td>3</td>\n",
       "      <td>2.0</td>\n",
       "      <td>5</td>\n",
       "      <td>1500310627</td>\n",
       "      <td>2017</td>\n",
       "      <td>7</td>\n",
       "      <td>17</td>\n",
       "      <td>0</td>\n",
       "      <td>0</td>\n",
       "      <td>0</td>\n",
       "      <td>...</td>\n",
       "      <td>0</td>\n",
       "      <td>0</td>\n",
       "      <td>0</td>\n",
       "      <td>0</td>\n",
       "      <td>0</td>\n",
       "      <td>0</td>\n",
       "      <td>0</td>\n",
       "      <td>1</td>\n",
       "      <td>0</td>\n",
       "      <td>0</td>\n",
       "    </tr>\n",
       "  </tbody>\n",
       "</table>\n",
       "<p>5 rows × 171 columns</p>\n",
       "</div>"
      ],
      "text/plain": [
       "        totals_hits  totals_pageviews  visitNumber  visitStartTime  year  \\\n",
       "40485             4               4.0            1      1498884588  2017   \n",
       "784765            1               1.0            1      1501200752  2017   \n",
       "103499            1               1.0            1      1499169217  2017   \n",
       "363033            1               1.0            4      1482550584  2016   \n",
       "886064            3               2.0            5      1500310627  2017   \n",
       "\n",
       "        month  day  channelGrouping_(Other)  channelGrouping_(other)  \\\n",
       "40485       6   30                        0                        0   \n",
       "784765      7   27                        0                        0   \n",
       "103499      7    4                        0                        0   \n",
       "363033     12   23                        0                        0   \n",
       "886064      7   17                        0                        0   \n",
       "\n",
       "        channelGrouping_Affiliates            ...             \\\n",
       "40485                            0            ...              \n",
       "784765                           0            ...              \n",
       "103499                           0            ...              \n",
       "363033                           0            ...              \n",
       "886064                           0            ...              \n",
       "\n",
       "        trafficSource_campaign_test-liyuhz  trafficSource_campaign_nan  \\\n",
       "40485                                    0                           0   \n",
       "784765                                   0                           0   \n",
       "103499                                   0                           0   \n",
       "363033                                   0                           0   \n",
       "886064                                   0                           0   \n",
       "\n",
       "        trafficSource_medium_(none)  trafficSource_medium_(not set)  \\\n",
       "40485                             0                               0   \n",
       "784765                            0                               0   \n",
       "103499                            0                               0   \n",
       "363033                            1                               0   \n",
       "886064                            0                               0   \n",
       "\n",
       "        trafficSource_medium_affiliate  trafficSource_medium_cpc  \\\n",
       "40485                                0                         0   \n",
       "784765                               0                         0   \n",
       "103499                               0                         0   \n",
       "363033                               0                         0   \n",
       "886064                               0                         0   \n",
       "\n",
       "        trafficSource_medium_cpm  trafficSource_medium_organic  \\\n",
       "40485                          0                             0   \n",
       "784765                         0                             1   \n",
       "103499                         0                             1   \n",
       "363033                         0                             0   \n",
       "886064                         0                             1   \n",
       "\n",
       "        trafficSource_medium_referral  trafficSource_medium_nan  \n",
       "40485                               1                         0  \n",
       "784765                              0                         0  \n",
       "103499                              0                         0  \n",
       "363033                              0                         0  \n",
       "886064                              0                         0  \n",
       "\n",
       "[5 rows x 171 columns]"
      ]
     },
     "execution_count": 8,
     "metadata": {},
     "output_type": "execute_result"
    }
   ],
   "source": [
    "X_train.head()"
   ]
  },
  {
   "cell_type": "code",
   "execution_count": 9,
   "metadata": {},
   "outputs": [
    {
     "name": "stdout",
     "output_type": "stream",
     "text": [
      "(722922, 171)\n",
      "(722922,)\n"
     ]
    }
   ],
   "source": [
    "print(X_train.shape)\n",
    "print(y_train.shape)"
   ]
  },
  {
   "cell_type": "code",
   "execution_count": 26,
   "metadata": {},
   "outputs": [],
   "source": [
    "#### Response variable for logistic regression\n",
    "y_train_logistic = np.where(y_train != 0,1,0)"
   ]
  },
  {
   "cell_type": "markdown",
   "metadata": {},
   "source": [
    "## 4. Model Building\n",
    "\n",
    "There will be two types of models<br><br>\n",
    "1) Logistic Regression to predict where we have to predict if the value is zero or non-zero <br>\n",
    "2) Linear Regression to predict the actual Revenue <br>\n",
    "    &emsp; 2.1) OLS <br>\n",
    "    &emsp; 2.2) Random forest <br>\n",
    "    &emsp; 2.3) Splines <br>"
   ]
  },
  {
   "cell_type": "markdown",
   "metadata": {},
   "source": [
    "### 4.1 Logistic Regression"
   ]
  },
  {
   "cell_type": "markdown",
   "metadata": {},
   "source": [
    " Model to find where we have 0 revenue and 1 (non-zero) revenue"
   ]
  },
  {
   "cell_type": "code",
   "execution_count": null,
   "metadata": {},
   "outputs": [
    {
     "name": "stderr",
     "output_type": "stream",
     "text": [
      "C:\\Users\\arvra\\Anaconda3\\lib\\site-packages\\scipy\\optimize\\linesearch.py:461: LineSearchWarning: The line search algorithm did not converge\n",
      "  warn('The line search algorithm did not converge', LineSearchWarning)\n",
      "C:\\Users\\arvra\\Anaconda3\\lib\\site-packages\\scipy\\optimize\\linesearch.py:312: LineSearchWarning: The line search algorithm did not converge\n",
      "  warn('The line search algorithm did not converge', LineSearchWarning)\n"
     ]
    }
   ],
   "source": [
    "log_model = LogisticRegression(C = 0.01, solver = 'newton-cg')\n",
    "log_model.fit(X_train,y_train_logistic)\n",
    "\n",
    "#### Predicting the values - Obtaining prediction probability to manually specify a threshold value\n",
    "\n",
    "np.sum(log_model.predict_proba(X_train))"
   ]
  },
  {
   "cell_type": "code",
   "execution_count": null,
   "metadata": {},
   "outputs": [],
   "source": []
  },
  {
   "cell_type": "markdown",
   "metadata": {},
   "source": [
    "### 4.2 Regression Models\n",
    "#### 4.2.1 OLS Models"
   ]
  },
  {
   "cell_type": "code",
   "execution_count": 23,
   "metadata": {},
   "outputs": [],
   "source": [
    "lr_model = LinearRegression(n_jobs = -1)"
   ]
  },
  {
   "cell_type": "code",
   "execution_count": 27,
   "metadata": {},
   "outputs": [
    {
     "data": {
      "text/plain": [
       "LinearRegression(copy_X=True, fit_intercept=True, n_jobs=-1, normalize=False)"
      ]
     },
     "execution_count": 27,
     "metadata": {},
     "output_type": "execute_result"
    }
   ],
   "source": [
    "lr_model.fit(X_train,y_train)\n",
    "\n"
   ]
  },
  {
   "cell_type": "code",
   "execution_count": 12,
   "metadata": {},
   "outputs": [],
   "source": [
    "predict = lr_model.predict(X_train)\n",
    "predict_test = lr_model.predict(X_test)"
   ]
  },
  {
   "cell_type": "code",
   "execution_count": 13,
   "metadata": {},
   "outputs": [
    {
     "data": {
      "text/plain": [
       "(array([716501,   5739,    539,     79,     37,     13,      1,      8,\n",
       "             2,      3], dtype=int64),\n",
       " array([-1.25905828e+07,  4.04889368e+07,  9.35684564e+07,  1.46647976e+08,\n",
       "         1.99727496e+08,  2.52807015e+08,  3.05886535e+08,  3.58966054e+08,\n",
       "         4.12045574e+08,  4.65125094e+08,  5.18204613e+08]))"
      ]
     },
     "execution_count": 13,
     "metadata": {},
     "output_type": "execute_result"
    }
   ],
   "source": [
    "np.histogram(predict)"
   ]
  },
  {
   "cell_type": "code",
   "execution_count": 14,
   "metadata": {},
   "outputs": [
    {
     "data": {
      "text/plain": [
       "0.45331784935534464"
      ]
     },
     "execution_count": 14,
     "metadata": {},
     "output_type": "execute_result"
    }
   ],
   "source": [
    "lmse = np.sum(np.log((y_train.values - np.where(predict < 1.04889368e+09, 0, predict)) ** 2 + 1))/len(y_train.values)\n",
    "lmse"
   ]
  },
  {
   "cell_type": "code",
   "execution_count": 15,
   "metadata": {},
   "outputs": [
    {
     "data": {
      "text/plain": [
       "0.4579103000800032"
      ]
     },
     "execution_count": 15,
     "metadata": {},
     "output_type": "execute_result"
    }
   ],
   "source": [
    "lmse = np.sum(np.log((y_test.values - np.where(predict_test < 1.04889368e+9, 0, predict_test)) ** 2 + 1))/len(y_test.values)\n",
    "lmse"
   ]
  },
  {
   "cell_type": "markdown",
   "metadata": {},
   "source": [
    "#### Predicting the test class"
   ]
  },
  {
   "cell_type": "code",
   "execution_count": 71,
   "metadata": {},
   "outputs": [],
   "source": [
    "predict_actual_test = lr_model.predict(test_dummies)\n",
    "predict_actual_t = np.log(np.where(predict_actual_test < 1e+9, 0,predict_actual_test)+1)"
   ]
  },
  {
   "cell_type": "code",
   "execution_count": 72,
   "metadata": {},
   "outputs": [],
   "source": [
    "submission = pd.concat([test.fullVisitorId,pd.DataFrame(predict_actual_t)], axis = 1)\n",
    "submission.columns.values[1]= 'PredictedLogRevenue'"
   ]
  },
  {
   "cell_type": "code",
   "execution_count": 73,
   "metadata": {},
   "outputs": [],
   "source": [
    "submission_out = submission.groupby('fullVisitorId',as_index = False).sum()"
   ]
  },
  {
   "cell_type": "code",
   "execution_count": 74,
   "metadata": {},
   "outputs": [],
   "source": [
    "submission_out.to_csv(\"kaggle_submission.csv\", index = False)"
   ]
  },
  {
   "cell_type": "markdown",
   "metadata": {},
   "source": [
    "#### Random forest"
   ]
  },
  {
   "cell_type": "code",
   "execution_count": 75,
   "metadata": {},
   "outputs": [],
   "source": [
    "from sklearn.ensemble import RandomForestClassifier"
   ]
  },
  {
   "cell_type": "code",
   "execution_count": 42,
   "metadata": {},
   "outputs": [],
   "source": [
    "rf_classifier = RandomForestClassifier()"
   ]
  },
  {
   "cell_type": "code",
   "execution_count": null,
   "metadata": {},
   "outputs": [],
   "source": [
    "#### To do:\n",
    "\n",
    "## For visualiation: https://www.kaggle.com/pavansanagapati/simple-exploration-lgbm-model-lb-1-4187 \n",
    "## Implement the globe\n",
    "\n",
    "## For categorical features - implement the Encoders and proper imputation\n",
    "## For columns with webties - extract the major website name (google.com/google.in have the same major content google)\n",
    "## Numerical features - better imputation and try to create more variables\n",
    "\n",
    "\n",
    "## Futher, implement a logistic regression and then perfrom a non-linear model on top\n"
   ]
  }
 ],
 "metadata": {
  "kernelspec": {
   "display_name": "Python 3",
   "language": "python",
   "name": "python3"
  },
  "language_info": {
   "codemirror_mode": {
    "name": "ipython",
    "version": 3
   },
   "file_extension": ".py",
   "mimetype": "text/x-python",
   "name": "python",
   "nbconvert_exporter": "python",
   "pygments_lexer": "ipython3",
   "version": "3.6.4"
  }
 },
 "nbformat": 4,
 "nbformat_minor": 2
}
