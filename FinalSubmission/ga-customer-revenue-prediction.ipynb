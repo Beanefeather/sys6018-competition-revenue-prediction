{
 "cells": [
  {
   "cell_type": "markdown",
   "metadata": {},
   "source": [
    "## Google Analytics - Customer Revenue Prediction\n",
    "\n",
    "###### Note: Visualization for the data done in a separate notebook"
   ]
  },
  {
   "cell_type": "markdown",
   "metadata": {},
   "source": [
    "## 1. Getting the data"
   ]
  },
  {
   "cell_type": "code",
   "execution_count": 1,
   "metadata": {},
   "outputs": [],
   "source": [
    "#### Loading the Required Packages ############\n",
    "import pandas as pd\n",
    "import numpy as np\n",
    "import matplotlib.pyplot as plt\n",
    "import seaborn as sns\n",
    "import json\n",
    "import gc\n",
    "import sys\n",
    "\n",
    "from pandas.io.json import json_normalize\n",
    "from datetime import datetime\n",
    "from sklearn import preprocessing\n",
    "from sklearn.model_selection import train_test_split\n",
    "from sklearn.linear_model import LinearRegression\n",
    "from sklearn.linear_model import LogisticRegression"
   ]
  },
  {
   "cell_type": "markdown",
   "metadata": {},
   "source": [
    "#### Function to convert XML to dataframes "
   ]
  },
  {
   "cell_type": "code",
   "execution_count": 2,
   "metadata": {},
   "outputs": [],
   "source": [
    "def load_df(csv_path, nrows=None):\n",
    "    JSON_COLUMNS = ['device', 'geoNetwork', 'totals', 'trafficSource']\n",
    "    \n",
    "    df = pd.read_csv(csv_path, \n",
    "                     converters={column: json.loads for column in JSON_COLUMNS}, \n",
    "                     dtype={'fullVisitorId': 'str'}, # Important!!\n",
    "                     nrows=nrows)\n",
    "    \n",
    "    for column in JSON_COLUMNS:\n",
    "        column_as_df = json_normalize(df[column])\n",
    "        column_as_df.columns = [str(column)+\".\"+str(subcolumn) for subcolumn in column_as_df.columns]\n",
    "        df = df.drop(column, axis=1).merge(column_as_df, right_index=True, left_index=True)\n",
    "    print(\"Loaded {os.path.basename(csv_path)}. Shape: {df.shape}\")\n",
    "    return df"
   ]
  },
  {
   "cell_type": "markdown",
   "metadata": {},
   "source": [
    "#### Calling the input train and test xml files to convert to dataframe"
   ]
  },
  {
   "cell_type": "code",
   "execution_count": 3,
   "metadata": {},
   "outputs": [],
   "source": [
    "train = load_df(os.getcwd()+'\\\\train.csv')\n",
    "test = load_df(os.getcwd()+'\\\\test.csv')"
   ]
  },
  {
   "cell_type": "markdown",
   "metadata": {},
   "source": [
    "#### Saving a CSV copy of generated dataframes"
   ]
  },
  {
   "cell_type": "code",
   "execution_count": 218,
   "metadata": {},
   "outputs": [],
   "source": [
    "#train.to_csv('train_extracted.csv',encoding='utf8')\n",
    "#test.to_csv('test_extracted.csv', encoding = 'utf8')\n",
    "\n",
    "## Reading saved the data\n",
    "#train = pd.read_csv('train_extracted.csv',encoding='utf8',dtype={'fullVisitorId': 'str'})\n",
    "#test = pd.read_csv('test_extracted.csv', encoding = 'utf8',dtype={'fullVisitorId': 'str'})"
   ]
  },
  {
   "cell_type": "markdown",
   "metadata": {},
   "source": [
    "#### Combining train and test data\n",
    "\n",
    "For ease in computation of data transformation and other changes, we combine the train and test"
   ]
  },
  {
   "cell_type": "code",
   "execution_count": 5,
   "metadata": {},
   "outputs": [],
   "source": [
    "train['data_source'] = 'train'\n",
    "test['data_source'] = 'test'\n",
    "\n",
    "all_data = pd.concat([train,test], axis = 0)"
   ]
  },
  {
   "cell_type": "code",
   "execution_count": 6,
   "metadata": {},
   "outputs": [
    {
     "data": {
      "text/plain": [
       "(1708337, 56)"
      ]
     },
     "execution_count": 6,
     "metadata": {},
     "output_type": "execute_result"
    }
   ],
   "source": [
    "all_data.shape"
   ]
  },
  {
   "cell_type": "markdown",
   "metadata": {},
   "source": [
    "## 2. Analyzing the Data"
   ]
  },
  {
   "cell_type": "markdown",
   "metadata": {},
   "source": [
    "#### Emtpy values \n",
    "\n",
    "Checking the ratio of NULL/empty values"
   ]
  },
  {
   "cell_type": "code",
   "execution_count": 7,
   "metadata": {},
   "outputs": [
    {
     "data": {
      "text/plain": [
       "98.72572768529513"
      ]
     },
     "execution_count": 7,
     "metadata": {},
     "output_type": "execute_result"
    }
   ],
   "source": [
    "100 * float(train['totals_transactionRevenue'].isnull().sum())/len(train['totals_transactionRevenue'])"
   ]
  },
  {
   "cell_type": "markdown",
   "metadata": {},
   "source": [
    "#### Data Snapshot\n"
   ]
  },
  {
   "cell_type": "code",
   "execution_count": 10,
   "metadata": {},
   "outputs": [
    {
     "data": {
      "text/html": [
       "<div>\n",
       "<style scoped>\n",
       "    .dataframe tbody tr th:only-of-type {\n",
       "        vertical-align: middle;\n",
       "    }\n",
       "\n",
       "    .dataframe tbody tr th {\n",
       "        vertical-align: top;\n",
       "    }\n",
       "\n",
       "    .dataframe thead th {\n",
       "        text-align: right;\n",
       "    }\n",
       "</style>\n",
       "<table border=\"1\" class=\"dataframe\">\n",
       "  <thead>\n",
       "    <tr style=\"text-align: right;\">\n",
       "      <th></th>\n",
       "      <th>channelGrouping</th>\n",
       "      <th>data_source</th>\n",
       "      <th>date</th>\n",
       "      <th>device_browser</th>\n",
       "      <th>device_browserSize</th>\n",
       "      <th>device_browserVersion</th>\n",
       "      <th>device_deviceCategory</th>\n",
       "      <th>device_flashVersion</th>\n",
       "      <th>device_isMobile</th>\n",
       "      <th>device_language</th>\n",
       "      <th>...</th>\n",
       "      <th>trafficSource_campaign</th>\n",
       "      <th>trafficSource_campaignCode</th>\n",
       "      <th>trafficSource_isTrueDirect</th>\n",
       "      <th>trafficSource_keyword</th>\n",
       "      <th>trafficSource_medium</th>\n",
       "      <th>trafficSource_referralPath</th>\n",
       "      <th>trafficSource_source</th>\n",
       "      <th>visitId</th>\n",
       "      <th>visitNumber</th>\n",
       "      <th>visitStartTime</th>\n",
       "    </tr>\n",
       "  </thead>\n",
       "  <tbody>\n",
       "    <tr>\n",
       "      <th>0</th>\n",
       "      <td>Organic Search</td>\n",
       "      <td>train</td>\n",
       "      <td>20160902</td>\n",
       "      <td>Chrome</td>\n",
       "      <td>not available in demo dataset</td>\n",
       "      <td>not available in demo dataset</td>\n",
       "      <td>desktop</td>\n",
       "      <td>not available in demo dataset</td>\n",
       "      <td>False</td>\n",
       "      <td>not available in demo dataset</td>\n",
       "      <td>...</td>\n",
       "      <td>(not set)</td>\n",
       "      <td>NaN</td>\n",
       "      <td>NaN</td>\n",
       "      <td>(not provided)</td>\n",
       "      <td>organic</td>\n",
       "      <td>NaN</td>\n",
       "      <td>google</td>\n",
       "      <td>1472830385</td>\n",
       "      <td>1</td>\n",
       "      <td>1472830385</td>\n",
       "    </tr>\n",
       "    <tr>\n",
       "      <th>1</th>\n",
       "      <td>Organic Search</td>\n",
       "      <td>train</td>\n",
       "      <td>20160902</td>\n",
       "      <td>Firefox</td>\n",
       "      <td>not available in demo dataset</td>\n",
       "      <td>not available in demo dataset</td>\n",
       "      <td>desktop</td>\n",
       "      <td>not available in demo dataset</td>\n",
       "      <td>False</td>\n",
       "      <td>not available in demo dataset</td>\n",
       "      <td>...</td>\n",
       "      <td>(not set)</td>\n",
       "      <td>NaN</td>\n",
       "      <td>NaN</td>\n",
       "      <td>(not provided)</td>\n",
       "      <td>organic</td>\n",
       "      <td>NaN</td>\n",
       "      <td>google</td>\n",
       "      <td>1472880147</td>\n",
       "      <td>1</td>\n",
       "      <td>1472880147</td>\n",
       "    </tr>\n",
       "    <tr>\n",
       "      <th>2</th>\n",
       "      <td>Organic Search</td>\n",
       "      <td>train</td>\n",
       "      <td>20160902</td>\n",
       "      <td>Chrome</td>\n",
       "      <td>not available in demo dataset</td>\n",
       "      <td>not available in demo dataset</td>\n",
       "      <td>desktop</td>\n",
       "      <td>not available in demo dataset</td>\n",
       "      <td>False</td>\n",
       "      <td>not available in demo dataset</td>\n",
       "      <td>...</td>\n",
       "      <td>(not set)</td>\n",
       "      <td>NaN</td>\n",
       "      <td>NaN</td>\n",
       "      <td>(not provided)</td>\n",
       "      <td>organic</td>\n",
       "      <td>NaN</td>\n",
       "      <td>google</td>\n",
       "      <td>1472865386</td>\n",
       "      <td>1</td>\n",
       "      <td>1472865386</td>\n",
       "    </tr>\n",
       "    <tr>\n",
       "      <th>3</th>\n",
       "      <td>Organic Search</td>\n",
       "      <td>train</td>\n",
       "      <td>20160902</td>\n",
       "      <td>UC Browser</td>\n",
       "      <td>not available in demo dataset</td>\n",
       "      <td>not available in demo dataset</td>\n",
       "      <td>desktop</td>\n",
       "      <td>not available in demo dataset</td>\n",
       "      <td>False</td>\n",
       "      <td>not available in demo dataset</td>\n",
       "      <td>...</td>\n",
       "      <td>(not set)</td>\n",
       "      <td>NaN</td>\n",
       "      <td>NaN</td>\n",
       "      <td>google + online</td>\n",
       "      <td>organic</td>\n",
       "      <td>NaN</td>\n",
       "      <td>google</td>\n",
       "      <td>1472881213</td>\n",
       "      <td>1</td>\n",
       "      <td>1472881213</td>\n",
       "    </tr>\n",
       "    <tr>\n",
       "      <th>4</th>\n",
       "      <td>Organic Search</td>\n",
       "      <td>train</td>\n",
       "      <td>20160902</td>\n",
       "      <td>Chrome</td>\n",
       "      <td>not available in demo dataset</td>\n",
       "      <td>not available in demo dataset</td>\n",
       "      <td>mobile</td>\n",
       "      <td>not available in demo dataset</td>\n",
       "      <td>True</td>\n",
       "      <td>not available in demo dataset</td>\n",
       "      <td>...</td>\n",
       "      <td>(not set)</td>\n",
       "      <td>NaN</td>\n",
       "      <td>True</td>\n",
       "      <td>(not provided)</td>\n",
       "      <td>organic</td>\n",
       "      <td>NaN</td>\n",
       "      <td>google</td>\n",
       "      <td>1472822600</td>\n",
       "      <td>2</td>\n",
       "      <td>1472822600</td>\n",
       "    </tr>\n",
       "  </tbody>\n",
       "</table>\n",
       "<p>5 rows × 56 columns</p>\n",
       "</div>"
      ],
      "text/plain": [
       "  channelGrouping data_source      date device_browser  \\\n",
       "0  Organic Search       train  20160902         Chrome   \n",
       "1  Organic Search       train  20160902        Firefox   \n",
       "2  Organic Search       train  20160902         Chrome   \n",
       "3  Organic Search       train  20160902     UC Browser   \n",
       "4  Organic Search       train  20160902         Chrome   \n",
       "\n",
       "              device_browserSize          device_browserVersion  \\\n",
       "0  not available in demo dataset  not available in demo dataset   \n",
       "1  not available in demo dataset  not available in demo dataset   \n",
       "2  not available in demo dataset  not available in demo dataset   \n",
       "3  not available in demo dataset  not available in demo dataset   \n",
       "4  not available in demo dataset  not available in demo dataset   \n",
       "\n",
       "  device_deviceCategory            device_flashVersion  device_isMobile  \\\n",
       "0               desktop  not available in demo dataset            False   \n",
       "1               desktop  not available in demo dataset            False   \n",
       "2               desktop  not available in demo dataset            False   \n",
       "3               desktop  not available in demo dataset            False   \n",
       "4                mobile  not available in demo dataset             True   \n",
       "\n",
       "                 device_language      ...       trafficSource_campaign  \\\n",
       "0  not available in demo dataset      ...                    (not set)   \n",
       "1  not available in demo dataset      ...                    (not set)   \n",
       "2  not available in demo dataset      ...                    (not set)   \n",
       "3  not available in demo dataset      ...                    (not set)   \n",
       "4  not available in demo dataset      ...                    (not set)   \n",
       "\n",
       "  trafficSource_campaignCode trafficSource_isTrueDirect trafficSource_keyword  \\\n",
       "0                        NaN                        NaN        (not provided)   \n",
       "1                        NaN                        NaN        (not provided)   \n",
       "2                        NaN                        NaN        (not provided)   \n",
       "3                        NaN                        NaN       google + online   \n",
       "4                        NaN                       True        (not provided)   \n",
       "\n",
       "  trafficSource_medium trafficSource_referralPath trafficSource_source  \\\n",
       "0              organic                        NaN               google   \n",
       "1              organic                        NaN               google   \n",
       "2              organic                        NaN               google   \n",
       "3              organic                        NaN               google   \n",
       "4              organic                        NaN               google   \n",
       "\n",
       "      visitId visitNumber visitStartTime  \n",
       "0  1472830385           1     1472830385  \n",
       "1  1472880147           1     1472880147  \n",
       "2  1472865386           1     1472865386  \n",
       "3  1472881213           1     1472881213  \n",
       "4  1472822600           2     1472822600  \n",
       "\n",
       "[5 rows x 56 columns]"
      ]
     },
     "execution_count": 10,
     "metadata": {},
     "output_type": "execute_result"
    }
   ],
   "source": [
    "#all_data.drop([u'Unnamed: 0'], axis = 1, inplace = True)\n",
    "all_data.head()"
   ]
  },
  {
   "cell_type": "code",
   "execution_count": 11,
   "metadata": {},
   "outputs": [
    {
     "data": {
      "text/plain": [
       "count    1.708337e+06\n",
       "mean     2.335170e+00\n",
       "std      9.354034e+00\n",
       "min      1.000000e+00\n",
       "25%      1.000000e+00\n",
       "50%      1.000000e+00\n",
       "75%      1.000000e+00\n",
       "max      4.570000e+02\n",
       "Name: visitNumber, dtype: float64"
      ]
     },
     "execution_count": 11,
     "metadata": {},
     "output_type": "execute_result"
    }
   ],
   "source": [
    "#### Distribution of the 'visitNumber' variable\n",
    "all_data.visitNumber.describe()"
   ]
  },
  {
   "cell_type": "markdown",
   "metadata": {},
   "source": [
    "#### Response variable"
   ]
  },
  {
   "cell_type": "code",
   "execution_count": 12,
   "metadata": {},
   "outputs": [
    {
     "data": {
      "text/plain": [
       "count    1.151500e+04\n",
       "mean     1.337448e+08\n",
       "std      4.482852e+08\n",
       "min      1.000000e+04\n",
       "25%      2.493000e+07\n",
       "50%      4.945000e+07\n",
       "75%      1.076550e+08\n",
       "max      2.312950e+10\n",
       "Name: totals_transactionRevenue, dtype: float64"
      ]
     },
     "execution_count": 12,
     "metadata": {},
     "output_type": "execute_result"
    }
   ],
   "source": [
    "all_data['totals_transactionRevenue'] = pd.to_numeric(all_data['totals_transactionRevenue'])\n",
    "all_data['totals_transactionRevenue'].describe()"
   ]
  },
  {
   "cell_type": "markdown",
   "metadata": {},
   "source": [
    "#### Distribution of other columns apart from Response variable"
   ]
  },
  {
   "cell_type": "code",
   "execution_count": 13,
   "metadata": {},
   "outputs": [
    {
     "name": "stdout",
     "output_type": "stream",
     "text": [
      "channelGrouping\n",
      "Organic Search    738963\n",
      "Social            354971\n",
      "Direct            273134\n",
      "Referral          211307\n",
      "Display            51283\n",
      "Name: channelGrouping, dtype: int64\n",
      "\n",
      "\n",
      "data_source\n",
      "train    903653\n",
      "test     804684\n",
      "Name: data_source, dtype: int64\n",
      "\n",
      "\n",
      "date\n",
      "20171212    9234\n",
      "20171213    9131\n",
      "20171004    5122\n",
      "20170920    4880\n",
      "20161128    4807\n",
      "Name: date, dtype: int64\n",
      "\n",
      "\n",
      "device_browser\n",
      "Chrome               1173056\n",
      "Safari                312165\n",
      "Firefox                63845\n",
      "Internet Explorer      35474\n",
      "Android Webview        34266\n",
      "Name: device_browser, dtype: int64\n",
      "\n",
      "\n",
      "device_browserSize\n",
      "not available in demo dataset    1708337\n",
      "Name: device_browserSize, dtype: int64\n",
      "\n",
      "\n",
      "device_browserVersion\n",
      "not available in demo dataset    1708337\n",
      "Name: device_browserVersion, dtype: int64\n",
      "\n",
      "\n",
      "device_deviceCategory\n",
      "desktop    1171579\n",
      "mobile      471336\n",
      "tablet       65422\n",
      "Name: device_deviceCategory, dtype: int64\n",
      "\n",
      "\n",
      "device_flashVersion\n",
      "not available in demo dataset    1708337\n",
      "Name: device_flashVersion, dtype: int64\n",
      "\n",
      "\n",
      "device_isMobile\n",
      "False    1171670\n",
      "True      536667\n",
      "Name: device_isMobile, dtype: int64\n",
      "\n",
      "\n",
      "device_language\n",
      "not available in demo dataset    1708337\n",
      "Name: device_language, dtype: int64\n",
      "\n",
      "\n",
      "device_mobileDeviceBranding\n",
      "not available in demo dataset    1708337\n",
      "Name: device_mobileDeviceBranding, dtype: int64\n",
      "\n",
      "\n",
      "device_mobileDeviceInfo\n",
      "not available in demo dataset    1708337\n",
      "Name: device_mobileDeviceInfo, dtype: int64\n",
      "\n",
      "\n",
      "device_mobileDeviceMarketingName\n",
      "not available in demo dataset    1708337\n",
      "Name: device_mobileDeviceMarketingName, dtype: int64\n",
      "\n",
      "\n",
      "device_mobileDeviceModel\n",
      "not available in demo dataset    1708337\n",
      "Name: device_mobileDeviceModel, dtype: int64\n",
      "\n",
      "\n",
      "device_mobileInputSelector\n",
      "not available in demo dataset    1708337\n",
      "Name: device_mobileInputSelector, dtype: int64\n",
      "\n",
      "\n",
      "device_operatingSystem\n",
      "Windows      619720\n",
      "Macintosh    438514\n",
      "Android      299386\n",
      "iOS          219334\n",
      "Linux         63971\n",
      "Name: device_operatingSystem, dtype: int64\n",
      "\n",
      "\n",
      "device_operatingSystemVersion\n",
      "not available in demo dataset    1708337\n",
      "Name: device_operatingSystemVersion, dtype: int64\n",
      "\n",
      "\n",
      "device_screenColors\n",
      "not available in demo dataset    1708337\n",
      "Name: device_screenColors, dtype: int64\n",
      "\n",
      "\n",
      "device_screenResolution\n",
      "not available in demo dataset    1708337\n",
      "Name: device_screenResolution, dtype: int64\n",
      "\n",
      "\n",
      "fullVisitorId\n",
      "1957458976293878100    400\n",
      "7282998257608986241    315\n",
      "3884810646891698298    268\n",
      "0824839726118485274    258\n",
      "7477638593794484792    218\n",
      "Name: fullVisitorId, dtype: int64\n",
      "\n",
      "\n",
      "geoNetwork_city\n",
      "not available in demo dataset    932959\n",
      "Mountain View                     74110\n",
      "(not set)                         65867\n",
      "New York                          49460\n",
      "San Francisco                     36960\n",
      "Name: geoNetwork_city, dtype: int64\n",
      "\n",
      "\n",
      "geoNetwork_cityId\n",
      "not available in demo dataset    1708337\n",
      "Name: geoNetwork_cityId, dtype: int64\n",
      "\n",
      "\n",
      "geoNetwork_continent\n",
      "Americas    877403\n",
      "Asia        396719\n",
      "Europe      368037\n",
      "Africa       35481\n",
      "Oceania      28180\n",
      "Name: geoNetwork_continent, dtype: int64\n",
      "\n",
      "\n",
      "geoNetwork_country\n",
      "United States     717217\n",
      "India             105317\n",
      "United Kingdom     73341\n",
      "Canada             51057\n",
      "Germany            38516\n",
      "Name: geoNetwork_country, dtype: int64\n",
      "\n",
      "\n",
      "geoNetwork_latitude\n",
      "not available in demo dataset    1708337\n",
      "Name: geoNetwork_latitude, dtype: int64\n",
      "\n",
      "\n",
      "geoNetwork_longitude\n",
      "not available in demo dataset    1708337\n",
      "Name: geoNetwork_longitude, dtype: int64\n",
      "\n",
      "\n",
      "geoNetwork_metro\n",
      "not available in demo dataset        932959\n",
      "(not set)                            386896\n",
      "San Francisco-Oakland-San Jose CA    182745\n",
      "New York NY                           50419\n",
      "London                                23643\n",
      "Name: geoNetwork_metro, dtype: int64\n",
      "\n",
      "\n",
      "geoNetwork_networkDomain\n",
      "(not set)          499049\n",
      "unknown.unknown    269796\n",
      "comcast.net         55486\n",
      "rr.com              28715\n",
      "verizon.net         26547\n",
      "Name: geoNetwork_networkDomain, dtype: int64\n",
      "\n",
      "\n",
      "geoNetwork_networkLocation\n",
      "not available in demo dataset    1708337\n",
      "Name: geoNetwork_networkLocation, dtype: int64\n",
      "\n",
      "\n",
      "geoNetwork_region\n",
      "not available in demo dataset    932959\n",
      "California                       206669\n",
      "(not set)                         49774\n",
      "New York                          49733\n",
      "England                           25824\n",
      "Name: geoNetwork_region, dtype: int64\n",
      "\n",
      "\n",
      "geoNetwork_subContinent\n",
      "Northern America    768345\n",
      "Southeast Asia      121634\n",
      "Southern Asia       121062\n",
      "Western Europe      115153\n",
      "Northern Europe     111693\n",
      "Name: geoNetwork_subContinent, dtype: int64\n",
      "\n",
      "\n",
      "sessionId\n",
      "9373190709225627245_1518076404    2\n",
      "7324775467899425796_1496991063    2\n",
      "930220539940247607_1510300341     2\n",
      "3233950437630485443_1500533828    2\n",
      "6602663265696099155_1498113465    2\n",
      "Name: sessionId, dtype: int64\n",
      "\n",
      "\n",
      "socialEngagementType\n",
      "Not Socially Engaged    1708337\n",
      "Name: socialEngagementType, dtype: int64\n",
      "\n",
      "\n",
      "totals_bounces\n",
      "1.0    871578\n",
      "Name: totals_bounces, dtype: int64\n",
      "\n",
      "\n",
      "totals_hits\n",
      "1    864064\n",
      "2    237499\n",
      "3    134435\n",
      "4     80875\n",
      "5     63687\n",
      "Name: totals_hits, dtype: int64\n",
      "\n",
      "\n",
      "totals_newVisits\n",
      "1.0    1307430\n",
      "Name: totals_newVisits, dtype: int64\n",
      "\n",
      "\n",
      "totals_pageviews\n",
      "1.0    876328\n",
      "2.0    249794\n",
      "3.0    142896\n",
      "4.0     86666\n",
      "5.0     64712\n",
      "Name: totals_pageviews, dtype: int64\n",
      "\n",
      "\n",
      "totals_transactionRevenue\n",
      "16990000.0    256\n",
      "18990000.0    189\n",
      "33590000.0    187\n",
      "44790000.0    170\n",
      "13590000.0    135\n",
      "Name: totals_transactionRevenue, dtype: int64\n",
      "\n",
      "\n",
      "totals_visits\n",
      "1    1708337\n",
      "Name: totals_visits, dtype: int64\n",
      "\n",
      "\n",
      "trafficSource_adContent\n",
      "Google Merchandise Store          39566\n",
      "Google Merchandise Collection      6762\n",
      "Placement Accessores 300 x 250     3040\n",
      "Smart display ad - 8/17/2017       2664\n",
      "Display Ad created 3/11/14         2344\n",
      "Name: trafficSource_adContent, dtype: int64\n",
      "\n",
      "\n",
      "trafficSource_adwordsClickInfo.adNetworkType\n",
      "Content            42223\n",
      "Google Search      33043\n",
      "Search partners        8\n",
      "Name: trafficSource_adwordsClickInfo.adNetworkType, dtype: int64\n",
      "\n",
      "\n",
      "trafficSource_adwordsClickInfo.criteriaParameters\n",
      "not available in demo dataset    1708337\n",
      "Name: trafficSource_adwordsClickInfo.criteriaParameters, dtype: int64\n",
      "\n",
      "\n",
      "trafficSource_adwordsClickInfo.gclId\n",
      "CN_Whvvc_9UCFd6LswodGTgKCQ                                                                    74\n",
      "Cj0KEQjwmIrJBRCRmJ_x7KDo-9oBEiQAuUPKMufMpuG3ZdwYO8GTsjiBFd5MPHStZa9y_9NCrI8X97oaAglc8P8HAQ    70\n",
      "COT1-vPT4tYCFZWNswodcwsHxg                                                                    60\n",
      "CN3fusbjvtYCFQsmhgodIEQO-g                                                                    51\n",
      "Cj0KEQjw1ee_BRD3hK6x993YzeoBEiQA5RH_BEA562M9tvl_mtnAFvtDnDqOQRp1RvxMMgwjcX1LAfwaAj4o8P8HAQ    41\n",
      "Name: trafficSource_adwordsClickInfo.gclId, dtype: int64\n",
      "\n",
      "\n",
      "trafficSource_adwordsClickInfo.isVideoAd\n",
      "False    75274\n",
      "Name: trafficSource_adwordsClickInfo.isVideoAd, dtype: int64\n",
      "\n",
      "\n",
      "trafficSource_adwordsClickInfo.page\n",
      "1.0    73913\n",
      "2.0     1057\n",
      "3.0      172\n",
      "4.0       80\n",
      "5.0       30\n",
      "Name: trafficSource_adwordsClickInfo.page, dtype: int64\n",
      "\n",
      "\n",
      "trafficSource_adwordsClickInfo.slot\n",
      "RHS                       42750\n",
      "Top                       32447\n",
      "Google Display Network       77\n",
      "Name: trafficSource_adwordsClickInfo.slot, dtype: int64\n",
      "\n",
      "\n",
      "trafficSource_campaign\n",
      "(not set)                                                 1594274\n",
      "Data Share Promo                                            32914\n",
      "1000557 | GA | US | en | Hybrid | GDN Text+Banner | AS      24410\n",
      "AW - Dynamic Search Ads Whole Site                          23177\n",
      "1000557 | GA | US | en | Hybrid | GDN Remarketing           15149\n",
      "Name: trafficSource_campaign, dtype: int64\n",
      "\n",
      "\n",
      "trafficSource_campaignCode\n",
      "11251kjhkvahf    1\n",
      "Name: trafficSource_campaignCode, dtype: int64\n",
      "\n",
      "\n",
      "trafficSource_isTrueDirect\n",
      "True    534518\n",
      "Name: trafficSource_isTrueDirect, dtype: int64\n",
      "\n",
      "\n",
      "trafficSource_keyword\n",
      "(not provided)                     712754\n",
      "(User vertical targeting)           26250\n",
      "(automatic matching)                18781\n",
      "6qEhsCssdK0z36ri                    17724\n",
      "(Remarketing/Content targeting)      7238\n",
      "Name: trafficSource_keyword, dtype: int64\n",
      "\n",
      "\n",
      "trafficSource_medium\n",
      "organic      738963\n",
      "referral     566278\n",
      "(none)       273134\n",
      "cpc           87850\n",
      "affiliate     32915\n",
      "Name: trafficSource_medium, dtype: int64\n",
      "\n",
      "\n",
      "trafficSource_referralPath\n",
      "/                  138293\n",
      "/yt/about/          79163\n",
      "/analytics/web/     33112\n",
      "/yt/about/tr/       14600\n",
      "/yt/about/vi/       13753\n",
      "Name: trafficSource_referralPath, dtype: int64\n",
      "\n",
      "\n",
      "trafficSource_source\n",
      "google                  817892\n",
      "youtube.com             329450\n",
      "(direct)                273152\n",
      "mall.googleplex.com     120541\n",
      "analytics.google.com     37436\n",
      "Name: trafficSource_source, dtype: int64\n",
      "\n",
      "\n",
      "visitId\n"
     ]
    },
    {
     "name": "stdout",
     "output_type": "stream",
     "text": [
      "1513124981    28\n",
      "1513125098    28\n",
      "1513124949    26\n",
      "1513125008    24\n",
      "1513124997    24\n",
      "Name: visitId, dtype: int64\n",
      "\n",
      "\n",
      "visitNumber\n",
      "1    1307430\n",
      "2     182542\n",
      "3      70962\n",
      "4      37886\n",
      "5      23314\n",
      "Name: visitNumber, dtype: int64\n",
      "\n",
      "\n",
      "visitStartTime\n",
      "1513124981    28\n",
      "1513125098    28\n",
      "1513124949    26\n",
      "1513124997    24\n",
      "1513125008    24\n",
      "Name: visitStartTime, dtype: int64\n",
      "\n",
      "\n"
     ]
    }
   ],
   "source": [
    "for each in all_data.columns:\n",
    "    print(each)\n",
    "    print(all_data[each].value_counts().head())\n",
    "    print(\"\\n\")"
   ]
  },
  {
   "cell_type": "markdown",
   "metadata": {},
   "source": [
    "## 3. Data Pre-processing"
   ]
  },
  {
   "cell_type": "markdown",
   "metadata": {},
   "source": [
    "#### Finding columns with just one value in it\n",
    "\n",
    "Finding the columns with  <br>\n",
    "i) If the number of unique values is just one <br>\n",
    "ii) More than 50% of NA values <br><br>\n",
    "\n",
    "Dropping such columns\n",
    "\n"
   ]
  },
  {
   "cell_type": "code",
   "execution_count": 14,
   "metadata": {},
   "outputs": [],
   "source": [
    "### Selecting columns with just one unique value and those with NULL values greater than 50% of the dataset\n",
    "drop_columns = [each for each in all_data.columns if len(train[each].unique()) <= 2 or all_data[each].isnull().sum() > 0.5 * all_data.shape[0]]\n",
    "drop_columns = [each for each in drop_columns if each not in ['totals_transactionRevenue','data_source']]"
   ]
  },
  {
   "cell_type": "code",
   "execution_count": 15,
   "metadata": {},
   "outputs": [],
   "source": [
    "all_data_upd = all_data.drop(drop_columns, axis = 1)"
   ]
  },
  {
   "cell_type": "markdown",
   "metadata": {},
   "source": [
    "#### Feature Engineering: Creating date variables"
   ]
  },
  {
   "cell_type": "code",
   "execution_count": 16,
   "metadata": {},
   "outputs": [],
   "source": [
    "all_data_upd['year'] = all_data_upd.date.apply(lambda x: int(str(x)[0:4]))\n",
    "all_data_upd['month'] = all_data_upd.date.apply(lambda x: int(str(x)[4:6]))\n",
    "all_data_upd['day'] = all_data_upd.date.apply(lambda x: int(str(x)[6:8]))"
   ]
  },
  {
   "cell_type": "markdown",
   "metadata": {},
   "source": [
    "#### Cleaning and imputing train and test separately - since we do not want to use the test data to impute the training data"
   ]
  },
  {
   "cell_type": "code",
   "execution_count": 17,
   "metadata": {},
   "outputs": [
    {
     "name": "stdout",
     "output_type": "stream",
     "text": [
      "(903653, 27)\n",
      "(804684, 27)\n"
     ]
    }
   ],
   "source": [
    "train_upd = all_data_upd[all_data_upd.data_source == 'train']\n",
    "test_upd = all_data_upd[all_data_upd.data_source == 'test']\n",
    "\n",
    "print(train_upd.shape)\n",
    "print(test_upd.shape)"
   ]
  },
  {
   "cell_type": "markdown",
   "metadata": {},
   "source": [
    "Viewing Training dataset"
   ]
  },
  {
   "cell_type": "code",
   "execution_count": 18,
   "metadata": {},
   "outputs": [
    {
     "data": {
      "text/html": [
       "<div>\n",
       "<style scoped>\n",
       "    .dataframe tbody tr th:only-of-type {\n",
       "        vertical-align: middle;\n",
       "    }\n",
       "\n",
       "    .dataframe tbody tr th {\n",
       "        vertical-align: top;\n",
       "    }\n",
       "\n",
       "    .dataframe thead th {\n",
       "        text-align: right;\n",
       "    }\n",
       "</style>\n",
       "<table border=\"1\" class=\"dataframe\">\n",
       "  <thead>\n",
       "    <tr style=\"text-align: right;\">\n",
       "      <th></th>\n",
       "      <th>channelGrouping</th>\n",
       "      <th>data_source</th>\n",
       "      <th>date</th>\n",
       "      <th>device_browser</th>\n",
       "      <th>device_deviceCategory</th>\n",
       "      <th>device_operatingSystem</th>\n",
       "      <th>fullVisitorId</th>\n",
       "      <th>geoNetwork_city</th>\n",
       "      <th>geoNetwork_continent</th>\n",
       "      <th>geoNetwork_country</th>\n",
       "      <th>...</th>\n",
       "      <th>totals_transactionRevenue</th>\n",
       "      <th>trafficSource_campaign</th>\n",
       "      <th>trafficSource_medium</th>\n",
       "      <th>trafficSource_source</th>\n",
       "      <th>visitId</th>\n",
       "      <th>visitNumber</th>\n",
       "      <th>visitStartTime</th>\n",
       "      <th>year</th>\n",
       "      <th>month</th>\n",
       "      <th>day</th>\n",
       "    </tr>\n",
       "  </thead>\n",
       "  <tbody>\n",
       "    <tr>\n",
       "      <th>0</th>\n",
       "      <td>Organic Search</td>\n",
       "      <td>train</td>\n",
       "      <td>20160902</td>\n",
       "      <td>Chrome</td>\n",
       "      <td>desktop</td>\n",
       "      <td>Windows</td>\n",
       "      <td>1131660440785968503</td>\n",
       "      <td>Izmir</td>\n",
       "      <td>Asia</td>\n",
       "      <td>Turkey</td>\n",
       "      <td>...</td>\n",
       "      <td>NaN</td>\n",
       "      <td>(not set)</td>\n",
       "      <td>organic</td>\n",
       "      <td>google</td>\n",
       "      <td>1472830385</td>\n",
       "      <td>1</td>\n",
       "      <td>1472830385</td>\n",
       "      <td>2016</td>\n",
       "      <td>9</td>\n",
       "      <td>2</td>\n",
       "    </tr>\n",
       "    <tr>\n",
       "      <th>1</th>\n",
       "      <td>Organic Search</td>\n",
       "      <td>train</td>\n",
       "      <td>20160902</td>\n",
       "      <td>Firefox</td>\n",
       "      <td>desktop</td>\n",
       "      <td>Macintosh</td>\n",
       "      <td>377306020877927890</td>\n",
       "      <td>not available in demo dataset</td>\n",
       "      <td>Oceania</td>\n",
       "      <td>Australia</td>\n",
       "      <td>...</td>\n",
       "      <td>NaN</td>\n",
       "      <td>(not set)</td>\n",
       "      <td>organic</td>\n",
       "      <td>google</td>\n",
       "      <td>1472880147</td>\n",
       "      <td>1</td>\n",
       "      <td>1472880147</td>\n",
       "      <td>2016</td>\n",
       "      <td>9</td>\n",
       "      <td>2</td>\n",
       "    </tr>\n",
       "    <tr>\n",
       "      <th>2</th>\n",
       "      <td>Organic Search</td>\n",
       "      <td>train</td>\n",
       "      <td>20160902</td>\n",
       "      <td>Chrome</td>\n",
       "      <td>desktop</td>\n",
       "      <td>Windows</td>\n",
       "      <td>3895546263509774583</td>\n",
       "      <td>Madrid</td>\n",
       "      <td>Europe</td>\n",
       "      <td>Spain</td>\n",
       "      <td>...</td>\n",
       "      <td>NaN</td>\n",
       "      <td>(not set)</td>\n",
       "      <td>organic</td>\n",
       "      <td>google</td>\n",
       "      <td>1472865386</td>\n",
       "      <td>1</td>\n",
       "      <td>1472865386</td>\n",
       "      <td>2016</td>\n",
       "      <td>9</td>\n",
       "      <td>2</td>\n",
       "    </tr>\n",
       "    <tr>\n",
       "      <th>3</th>\n",
       "      <td>Organic Search</td>\n",
       "      <td>train</td>\n",
       "      <td>20160902</td>\n",
       "      <td>UC Browser</td>\n",
       "      <td>desktop</td>\n",
       "      <td>Linux</td>\n",
       "      <td>4763447161404445595</td>\n",
       "      <td>not available in demo dataset</td>\n",
       "      <td>Asia</td>\n",
       "      <td>Indonesia</td>\n",
       "      <td>...</td>\n",
       "      <td>NaN</td>\n",
       "      <td>(not set)</td>\n",
       "      <td>organic</td>\n",
       "      <td>google</td>\n",
       "      <td>1472881213</td>\n",
       "      <td>1</td>\n",
       "      <td>1472881213</td>\n",
       "      <td>2016</td>\n",
       "      <td>9</td>\n",
       "      <td>2</td>\n",
       "    </tr>\n",
       "    <tr>\n",
       "      <th>4</th>\n",
       "      <td>Organic Search</td>\n",
       "      <td>train</td>\n",
       "      <td>20160902</td>\n",
       "      <td>Chrome</td>\n",
       "      <td>mobile</td>\n",
       "      <td>Android</td>\n",
       "      <td>27294437909732085</td>\n",
       "      <td>not available in demo dataset</td>\n",
       "      <td>Europe</td>\n",
       "      <td>United Kingdom</td>\n",
       "      <td>...</td>\n",
       "      <td>NaN</td>\n",
       "      <td>(not set)</td>\n",
       "      <td>organic</td>\n",
       "      <td>google</td>\n",
       "      <td>1472822600</td>\n",
       "      <td>2</td>\n",
       "      <td>1472822600</td>\n",
       "      <td>2016</td>\n",
       "      <td>9</td>\n",
       "      <td>2</td>\n",
       "    </tr>\n",
       "  </tbody>\n",
       "</table>\n",
       "<p>5 rows × 27 columns</p>\n",
       "</div>"
      ],
      "text/plain": [
       "  channelGrouping data_source      date device_browser device_deviceCategory  \\\n",
       "0  Organic Search       train  20160902         Chrome               desktop   \n",
       "1  Organic Search       train  20160902        Firefox               desktop   \n",
       "2  Organic Search       train  20160902         Chrome               desktop   \n",
       "3  Organic Search       train  20160902     UC Browser               desktop   \n",
       "4  Organic Search       train  20160902         Chrome                mobile   \n",
       "\n",
       "  device_operatingSystem        fullVisitorId                geoNetwork_city  \\\n",
       "0                Windows  1131660440785968503                          Izmir   \n",
       "1              Macintosh   377306020877927890  not available in demo dataset   \n",
       "2                Windows  3895546263509774583                         Madrid   \n",
       "3                  Linux  4763447161404445595  not available in demo dataset   \n",
       "4                Android    27294437909732085  not available in demo dataset   \n",
       "\n",
       "  geoNetwork_continent geoNetwork_country ... totals_transactionRevenue  \\\n",
       "0                 Asia             Turkey ...                       NaN   \n",
       "1              Oceania          Australia ...                       NaN   \n",
       "2               Europe              Spain ...                       NaN   \n",
       "3                 Asia          Indonesia ...                       NaN   \n",
       "4               Europe     United Kingdom ...                       NaN   \n",
       "\n",
       "  trafficSource_campaign trafficSource_medium trafficSource_source  \\\n",
       "0              (not set)              organic               google   \n",
       "1              (not set)              organic               google   \n",
       "2              (not set)              organic               google   \n",
       "3              (not set)              organic               google   \n",
       "4              (not set)              organic               google   \n",
       "\n",
       "      visitId  visitNumber  visitStartTime  year month day  \n",
       "0  1472830385            1      1472830385  2016     9   2  \n",
       "1  1472880147            1      1472880147  2016     9   2  \n",
       "2  1472865386            1      1472865386  2016     9   2  \n",
       "3  1472881213            1      1472881213  2016     9   2  \n",
       "4  1472822600            2      1472822600  2016     9   2  \n",
       "\n",
       "[5 rows x 27 columns]"
      ]
     },
     "execution_count": 18,
     "metadata": {},
     "output_type": "execute_result"
    }
   ],
   "source": [
    "train_upd.head()"
   ]
  },
  {
   "cell_type": "markdown",
   "metadata": {},
   "source": [
    "#### Imputation for Trainining dataset"
   ]
  },
  {
   "cell_type": "markdown",
   "metadata": {},
   "source": [
    "Imputation has been done for Categorical and Numeric variables <br>\n",
    "1. Numerical:<br>\n",
    "    The NAs has been replaced with the mean values<br>\n",
    "    \n",
    "2. Categorical:<br>\n",
    "    Categorical values with frequency less than 10 has been identified and grouped into a new category called 'Others'"
   ]
  },
  {
   "cell_type": "code",
   "execution_count": 19,
   "metadata": {},
   "outputs": [
    {
     "name": "stdout",
     "output_type": "stream",
     "text": [
      "channelGrouping\n",
      "8\n"
     ]
    },
    {
     "name": "stderr",
     "output_type": "stream",
     "text": [
      "C:\\Users\\arvra\\Anaconda3\\lib\\site-packages\\pandas\\core\\indexing.py:537: SettingWithCopyWarning: \n",
      "A value is trying to be set on a copy of a slice from a DataFrame.\n",
      "Try using .loc[row_indexer,col_indexer] = value instead\n",
      "\n",
      "See the caveats in the documentation: http://pandas.pydata.org/pandas-docs/stable/indexing.html#indexing-view-versus-copy\n",
      "  self.obj[item] = s\n"
     ]
    },
    {
     "name": "stdout",
     "output_type": "stream",
     "text": [
      "device_browser\n",
      "54\n",
      "device_deviceCategory\n",
      "3\n",
      "device_operatingSystem\n",
      "20\n",
      "geoNetwork_city\n",
      "649\n",
      "geoNetwork_continent\n",
      "6\n",
      "geoNetwork_country\n",
      "222\n",
      "geoNetwork_metro\n",
      "94\n",
      "geoNetwork_networkDomain\n",
      "28064\n",
      "geoNetwork_region\n",
      "376\n",
      "geoNetwork_subContinent\n",
      "23\n",
      "trafficSource_campaign\n",
      "10\n",
      "trafficSource_medium\n",
      "7\n",
      "trafficSource_source\n",
      "380\n"
     ]
    }
   ],
   "source": [
    "## Cleaning the character columns in the data\n",
    "float_cols = []\n",
    "\n",
    "\n",
    "###Looping through each of the columns in the data \n",
    "for each in train_upd.columns:\n",
    "    \n",
    "    ### Skipping the column 'data_source'\n",
    "    if(each == 'data_source'):\n",
    "        continue\n",
    "    \n",
    "    if(train_upd[each].dtype == 'O' and len(train_upd[each].unique()) < 500000):\n",
    "        print(each)\n",
    "        ### Skipping the values are actually numeric or float\n",
    "        \n",
    "        \n",
    "        ### CONDITION FOR NUMBERIC/FLOAT VALUES ######\n",
    "        if( not (len(pd.to_numeric(train_upd[each],errors = 'coerce').unique()) < 0.5 * len(train_upd[each].unique())) ):\n",
    "            \n",
    "            train_upd.loc[:,each] = train_upd[each].fillna(train_upd[each].mean())\n",
    "            float_cols.append(each)\n",
    "        \n",
    "        \n",
    "        ### CONDITION FOR CHARACTER COLUMNS ######    \n",
    "        else:\n",
    "\n",
    "\n",
    "            print(len(train_upd[each].unique()))\n",
    "            train_upd.loc[:,each] = train_upd[each].apply(lambda x: x.lower().strip())\n",
    "            extreme_values = train_upd[each].value_counts()[train_upd[each].value_counts() < 10].index\n",
    "\n",
    "            ## Replacing the outliers (extreme) values with 'Others'\n",
    "\n",
    "            train_upd.loc[:,each] = train_upd[each].apply(lambda x: np.where(x in extreme_values, 'Others',x))"
   ]
  },
  {
   "cell_type": "markdown",
   "metadata": {},
   "source": [
    "#### Imputation for Test dataset"
   ]
  },
  {
   "cell_type": "code",
   "execution_count": 22,
   "metadata": {},
   "outputs": [
    {
     "name": "stdout",
     "output_type": "stream",
     "text": [
      "channelGrouping\n",
      "8\n"
     ]
    },
    {
     "name": "stderr",
     "output_type": "stream",
     "text": [
      "C:\\Users\\arvra\\Anaconda3\\lib\\site-packages\\ipykernel_launcher.py:22: SettingWithCopyWarning: \n",
      "A value is trying to be set on a copy of a slice from a DataFrame.\n",
      "Try using .loc[row_indexer,col_indexer] = value instead\n",
      "\n",
      "See the caveats in the documentation: http://pandas.pydata.org/pandas-docs/stable/indexing.html#indexing-view-versus-copy\n",
      "C:\\Users\\arvra\\Anaconda3\\lib\\site-packages\\ipykernel_launcher.py:27: SettingWithCopyWarning: \n",
      "A value is trying to be set on a copy of a slice from a DataFrame.\n",
      "Try using .loc[row_indexer,col_indexer] = value instead\n",
      "\n",
      "See the caveats in the documentation: http://pandas.pydata.org/pandas-docs/stable/indexing.html#indexing-view-versus-copy\n"
     ]
    },
    {
     "name": "stdout",
     "output_type": "stream",
     "text": [
      "device_browser\n",
      "109\n",
      "device_deviceCategory\n",
      "3\n",
      "device_operatingSystem\n",
      "22\n",
      "geoNetwork_city\n",
      "732\n",
      "geoNetwork_continent\n",
      "6\n",
      "geoNetwork_country\n",
      "219\n",
      "geoNetwork_metro\n",
      "109\n",
      "geoNetwork_networkDomain\n",
      "25750\n",
      "geoNetwork_region\n",
      "376\n",
      "geoNetwork_subContinent\n",
      "23\n",
      "trafficSource_campaign\n",
      "31\n",
      "trafficSource_medium\n",
      "7\n",
      "trafficSource_source\n",
      "324\n"
     ]
    }
   ],
   "source": [
    "## Cleaning the character columns in the test data\n",
    "## Similar method like train dataset is followed\n",
    "\n",
    "for each in test_upd.columns:\n",
    "    \n",
    "    \n",
    "    if(each == 'data_source'):\n",
    "        continue\n",
    "    \n",
    "    if(test_upd[each].dtype == 'O' and len(test_upd[each].unique()) < 500000):\n",
    "        print(each)    \n",
    "        \n",
    "        ### Identifying the columns as numeric/float as per the training data\n",
    "        if(each in float_cols):\n",
    "            \n",
    "            test_upd[each] = test_upd[each].fillna(test_upd[each].mean())\n",
    "        \n",
    "        ### CONDITION FOR CHARACTER COLUMNS ######    \n",
    "        else:\n",
    "            print(len(test_upd[each].unique()))\n",
    "            test_upd[each] = test_upd[each].apply(lambda x: x.lower().strip())\n",
    "            extreme_values = test_upd[each].value_counts()[test_upd[each].value_counts() < 10].index\n",
    "\n",
    "            ## Replacing the outliers (extreme) values with 'Others'\n",
    "\n",
    "            test_upd[each] = test_upd[each].apply(lambda x: np.where(x in extreme_values, 'Others',x))"
   ]
  },
  {
   "cell_type": "markdown",
   "metadata": {},
   "source": [
    "#### Combining the data again"
   ]
  },
  {
   "cell_type": "code",
   "execution_count": 24,
   "metadata": {},
   "outputs": [],
   "source": [
    "all_data_upd = pd.concat([train_upd,test_upd], axis = 0)"
   ]
  },
  {
   "cell_type": "markdown",
   "metadata": {},
   "source": [
    "#### Creating Label Encodings for certain columns"
   ]
  },
  {
   "cell_type": "code",
   "execution_count": 25,
   "metadata": {},
   "outputs": [],
   "source": [
    "### Getting encoder function for python\n",
    "### Columns for transforming\n",
    "## device_browser','geoNetwork_metro','geoNetwork_networkDomain','geoNetwork_region',\n",
    "## 'trafficSource_source','geoNetwork_city','geoNetwork_country'\n",
    "\n",
    "\n",
    "from sklearn.preprocessing import LabelEncoder\n",
    "###################################################\n",
    "device_browser = LabelEncoder()\n",
    "device_browser.fit(all_data_upd.device_browser)\n",
    "\n",
    "all_data_upd['device_browser_enc'] = device_browser.transform(all_data_upd.device_browser)\n",
    "###############################################\n",
    "geoNetwork_metro = LabelEncoder()\n",
    "geoNetwork_metro.fit(all_data_upd.geoNetwork_metro)\n",
    "\n",
    "all_data_upd['geoNetwork_metro_enc'] = geoNetwork_metro.transform(all_data_upd.geoNetwork_metro)\n",
    "###############################################\n",
    "geoNetwork_networkDomain = LabelEncoder()\n",
    "geoNetwork_networkDomain.fit(all_data_upd.geoNetwork_networkDomain)\n",
    "\n",
    "all_data_upd['geoNetwork_networkDomain_enc'] = geoNetwork_networkDomain.transform(all_data_upd.geoNetwork_networkDomain)\n",
    "###############################################\n",
    "geoNetwork_region = LabelEncoder()\n",
    "geoNetwork_region.fit(all_data_upd.geoNetwork_region)\n",
    "\n",
    "all_data_upd['geoNetwork_region_enc'] = geoNetwork_region.transform(all_data_upd.geoNetwork_region)\n",
    "###############################################\n",
    "trafficSource_source = LabelEncoder()\n",
    "trafficSource_source.fit(all_data_upd.trafficSource_source)\n",
    "\n",
    "all_data_upd['trafficSource_source_enc'] = trafficSource_source.transform(all_data_upd.trafficSource_source)\n",
    "###############################################\n",
    "geoNetwork_city = LabelEncoder()\n",
    "geoNetwork_city.fit(all_data_upd.geoNetwork_city)\n",
    "\n",
    "all_data_upd['geoNetwork_city_enc'] = geoNetwork_city.transform(all_data_upd.geoNetwork_city)\n",
    "###############################################\n",
    "geoNetwork_country = LabelEncoder()\n",
    "geoNetwork_country.fit(all_data_upd.geoNetwork_country)\n",
    "\n",
    "all_data_upd['geoNetwork_country_enc'] = geoNetwork_country.transform(all_data_upd.geoNetwork_country)\n",
    "##############################################"
   ]
  },
  {
   "cell_type": "code",
   "execution_count": 26,
   "metadata": {},
   "outputs": [
    {
     "data": {
      "text/plain": [
       "(1708337, 27)"
      ]
     },
     "execution_count": 26,
     "metadata": {},
     "output_type": "execute_result"
    }
   ],
   "source": [
    "## Columns that has more than ~200 distinct objects will create multiple columns while creating one hot vectors\n",
    "### So, instead of dropping them, we encode those variables into numerical values\n",
    "\n",
    "## Dropping such columns\n",
    "all_data_upd = all_data_upd.drop(['device_browser','geoNetwork_metro','geoNetwork_networkDomain','geoNetwork_region',\n",
    "                                  'trafficSource_source','geoNetwork_city','geoNetwork_country'], axis = 1)\n",
    "\n",
    "## Getting the datashape\n",
    "all_data_upd.shape"
   ]
  },
  {
   "cell_type": "code",
   "execution_count": 27,
   "metadata": {},
   "outputs": [],
   "source": [
    "all_data_upd['totals_transactionRevenue'] = all_data_upd['totals_transactionRevenue'].fillna(0)\n",
    "all_data_upd = all_data_upd.fillna(0)"
   ]
  },
  {
   "cell_type": "code",
   "execution_count": 28,
   "metadata": {},
   "outputs": [],
   "source": [
    "### Removing id columns\n",
    "id_cols = ['sessionId','fullVisitorId','visitId','date']\n",
    "all_data_dummies = pd.get_dummies(all_data_upd.drop(id_cols, axis = 1), dummy_na = True)"
   ]
  },
  {
   "cell_type": "code",
   "execution_count": 29,
   "metadata": {},
   "outputs": [
    {
     "data": {
      "text/plain": [
       "(1708337, 121)"
      ]
     },
     "execution_count": 29,
     "metadata": {},
     "output_type": "execute_result"
    }
   ],
   "source": [
    "all_data_dummies.shape"
   ]
  },
  {
   "cell_type": "markdown",
   "metadata": {},
   "source": [
    "#### Saving the transformed train data"
   ]
  },
  {
   "cell_type": "code",
   "execution_count": 417,
   "metadata": {},
   "outputs": [],
   "source": [
    "#all_data_dummies.to_csv('all_data_dummies.csv', index = False, encoding = 'utf8')\n",
    "all_data_dummies = pd.read_csv(\"all_data_dummies.csv\", encoding = 'utf8')"
   ]
  },
  {
   "cell_type": "code",
   "execution_count": 30,
   "metadata": {},
   "outputs": [
    {
     "data": {
      "text/plain": [
       "(1708337, 121)"
      ]
     },
     "execution_count": 30,
     "metadata": {},
     "output_type": "execute_result"
    }
   ],
   "source": [
    "all_data_dummies.shape"
   ]
  },
  {
   "cell_type": "markdown",
   "metadata": {},
   "source": [
    "#### Dividing the data into train and test"
   ]
  },
  {
   "cell_type": "code",
   "execution_count": 31,
   "metadata": {},
   "outputs": [],
   "source": [
    "train_dummies = all_data_dummies[all_data_dummies.data_source_train == 1]\n",
    "test_dummies = all_data_dummies[all_data_dummies.data_source_test == 1]\n",
    "\n",
    "# train_dummies = all_data_upd[all_data_upd.data_source == 'train']\n",
    "# test_dummies = all_data_upd[all_data_upd.data_source == 'test']"
   ]
  },
  {
   "cell_type": "markdown",
   "metadata": {},
   "source": [
    "### Creating the dataset that is model-ready"
   ]
  },
  {
   "cell_type": "code",
   "execution_count": 32,
   "metadata": {},
   "outputs": [],
   "source": [
    "train_dummies = train_dummies.drop(['data_source_train','data_source_test','data_source_nan'], axis = 1)\n",
    "test_dummies = test_dummies.drop(['data_source_train','data_source_test','data_source_nan','totals_transactionRevenue'], axis = 1)\n",
    "\n",
    "#train_dummies = train_dummies.drop(['data_source'], axis = 1)\n",
    "#test_dummies = test_dummies.drop(['data_source','totals.transactionRevenue'], axis = 1)"
   ]
  },
  {
   "cell_type": "markdown",
   "metadata": {},
   "source": [
    "#### Creating Validation Dataset (Holdout data)\n",
    "\n",
    "Note: The response variable is changed to log values of the totals_transactionRevenue for better accuracy. Normal transaction was compared agains log values and log values resulted in better scores"
   ]
  },
  {
   "cell_type": "code",
   "execution_count": 33,
   "metadata": {},
   "outputs": [],
   "source": [
    "X_train, X_test, y_train, y_test = train_test_split(train_dummies.drop(['totals_transactionRevenue'], axis = 1), \\\n",
    "                  np.log(train_dummies['totals_transactionRevenue']+1),test_size = 0.2, random_state = 9)"
   ]
  },
  {
   "cell_type": "code",
   "execution_count": 34,
   "metadata": {},
   "outputs": [
    {
     "data": {
      "text/html": [
       "<div>\n",
       "<style scoped>\n",
       "    .dataframe tbody tr th:only-of-type {\n",
       "        vertical-align: middle;\n",
       "    }\n",
       "\n",
       "    .dataframe tbody tr th {\n",
       "        vertical-align: top;\n",
       "    }\n",
       "\n",
       "    .dataframe thead th {\n",
       "        text-align: right;\n",
       "    }\n",
       "</style>\n",
       "<table border=\"1\" class=\"dataframe\">\n",
       "  <thead>\n",
       "    <tr style=\"text-align: right;\">\n",
       "      <th></th>\n",
       "      <th>totals_hits</th>\n",
       "      <th>totals_pageviews</th>\n",
       "      <th>visitNumber</th>\n",
       "      <th>visitStartTime</th>\n",
       "      <th>year</th>\n",
       "      <th>month</th>\n",
       "      <th>day</th>\n",
       "      <th>device_browser_enc</th>\n",
       "      <th>geoNetwork_metro_enc</th>\n",
       "      <th>geoNetwork_networkDomain_enc</th>\n",
       "      <th>...</th>\n",
       "      <th>trafficSource_campaign_value shoppers affinity</th>\n",
       "      <th>trafficSource_campaign_nan</th>\n",
       "      <th>trafficSource_medium_(none)</th>\n",
       "      <th>trafficSource_medium_(not set)</th>\n",
       "      <th>trafficSource_medium_affiliate</th>\n",
       "      <th>trafficSource_medium_cpc</th>\n",
       "      <th>trafficSource_medium_cpm</th>\n",
       "      <th>trafficSource_medium_organic</th>\n",
       "      <th>trafficSource_medium_referral</th>\n",
       "      <th>trafficSource_medium_nan</th>\n",
       "    </tr>\n",
       "  </thead>\n",
       "  <tbody>\n",
       "    <tr>\n",
       "      <th>40485</th>\n",
       "      <td>4</td>\n",
       "      <td>4.0</td>\n",
       "      <td>1</td>\n",
       "      <td>1498884588</td>\n",
       "      <td>2017</td>\n",
       "      <td>6</td>\n",
       "      <td>30</td>\n",
       "      <td>23</td>\n",
       "      <td>72</td>\n",
       "      <td>1228</td>\n",
       "      <td>...</td>\n",
       "      <td>0</td>\n",
       "      <td>0</td>\n",
       "      <td>0</td>\n",
       "      <td>0</td>\n",
       "      <td>0</td>\n",
       "      <td>0</td>\n",
       "      <td>0</td>\n",
       "      <td>0</td>\n",
       "      <td>1</td>\n",
       "      <td>0</td>\n",
       "    </tr>\n",
       "    <tr>\n",
       "      <th>784765</th>\n",
       "      <td>1</td>\n",
       "      <td>1.0</td>\n",
       "      <td>1</td>\n",
       "      <td>1501200752</td>\n",
       "      <td>2017</td>\n",
       "      <td>7</td>\n",
       "      <td>27</td>\n",
       "      <td>23</td>\n",
       "      <td>72</td>\n",
       "      <td>0</td>\n",
       "      <td>...</td>\n",
       "      <td>0</td>\n",
       "      <td>0</td>\n",
       "      <td>0</td>\n",
       "      <td>0</td>\n",
       "      <td>0</td>\n",
       "      <td>0</td>\n",
       "      <td>0</td>\n",
       "      <td>1</td>\n",
       "      <td>0</td>\n",
       "      <td>0</td>\n",
       "    </tr>\n",
       "    <tr>\n",
       "      <th>103499</th>\n",
       "      <td>1</td>\n",
       "      <td>1.0</td>\n",
       "      <td>1</td>\n",
       "      <td>1499169217</td>\n",
       "      <td>2017</td>\n",
       "      <td>7</td>\n",
       "      <td>4</td>\n",
       "      <td>8</td>\n",
       "      <td>72</td>\n",
       "      <td>3414</td>\n",
       "      <td>...</td>\n",
       "      <td>0</td>\n",
       "      <td>0</td>\n",
       "      <td>0</td>\n",
       "      <td>0</td>\n",
       "      <td>0</td>\n",
       "      <td>0</td>\n",
       "      <td>0</td>\n",
       "      <td>1</td>\n",
       "      <td>0</td>\n",
       "      <td>0</td>\n",
       "    </tr>\n",
       "    <tr>\n",
       "      <th>363033</th>\n",
       "      <td>1</td>\n",
       "      <td>1.0</td>\n",
       "      <td>4</td>\n",
       "      <td>1482550584</td>\n",
       "      <td>2016</td>\n",
       "      <td>12</td>\n",
       "      <td>23</td>\n",
       "      <td>5</td>\n",
       "      <td>90</td>\n",
       "      <td>272</td>\n",
       "      <td>...</td>\n",
       "      <td>0</td>\n",
       "      <td>0</td>\n",
       "      <td>1</td>\n",
       "      <td>0</td>\n",
       "      <td>0</td>\n",
       "      <td>0</td>\n",
       "      <td>0</td>\n",
       "      <td>0</td>\n",
       "      <td>0</td>\n",
       "      <td>0</td>\n",
       "    </tr>\n",
       "    <tr>\n",
       "      <th>886064</th>\n",
       "      <td>3</td>\n",
       "      <td>2.0</td>\n",
       "      <td>5</td>\n",
       "      <td>1500310627</td>\n",
       "      <td>2017</td>\n",
       "      <td>7</td>\n",
       "      <td>17</td>\n",
       "      <td>5</td>\n",
       "      <td>90</td>\n",
       "      <td>0</td>\n",
       "      <td>...</td>\n",
       "      <td>0</td>\n",
       "      <td>0</td>\n",
       "      <td>0</td>\n",
       "      <td>0</td>\n",
       "      <td>0</td>\n",
       "      <td>0</td>\n",
       "      <td>0</td>\n",
       "      <td>1</td>\n",
       "      <td>0</td>\n",
       "      <td>0</td>\n",
       "    </tr>\n",
       "  </tbody>\n",
       "</table>\n",
       "<p>5 rows × 117 columns</p>\n",
       "</div>"
      ],
      "text/plain": [
       "        totals_hits  totals_pageviews  visitNumber  visitStartTime  year  \\\n",
       "40485             4               4.0            1      1498884588  2017   \n",
       "784765            1               1.0            1      1501200752  2017   \n",
       "103499            1               1.0            1      1499169217  2017   \n",
       "363033            1               1.0            4      1482550584  2016   \n",
       "886064            3               2.0            5      1500310627  2017   \n",
       "\n",
       "        month  day  device_browser_enc  geoNetwork_metro_enc  \\\n",
       "40485       6   30                  23                    72   \n",
       "784765      7   27                  23                    72   \n",
       "103499      7    4                   8                    72   \n",
       "363033     12   23                   5                    90   \n",
       "886064      7   17                   5                    90   \n",
       "\n",
       "        geoNetwork_networkDomain_enc            ...             \\\n",
       "40485                           1228            ...              \n",
       "784765                             0            ...              \n",
       "103499                          3414            ...              \n",
       "363033                           272            ...              \n",
       "886064                             0            ...              \n",
       "\n",
       "        trafficSource_campaign_value shoppers affinity  \\\n",
       "40485                                                0   \n",
       "784765                                               0   \n",
       "103499                                               0   \n",
       "363033                                               0   \n",
       "886064                                               0   \n",
       "\n",
       "        trafficSource_campaign_nan  trafficSource_medium_(none)  \\\n",
       "40485                            0                            0   \n",
       "784765                           0                            0   \n",
       "103499                           0                            0   \n",
       "363033                           0                            1   \n",
       "886064                           0                            0   \n",
       "\n",
       "        trafficSource_medium_(not set)  trafficSource_medium_affiliate  \\\n",
       "40485                                0                               0   \n",
       "784765                               0                               0   \n",
       "103499                               0                               0   \n",
       "363033                               0                               0   \n",
       "886064                               0                               0   \n",
       "\n",
       "        trafficSource_medium_cpc  trafficSource_medium_cpm  \\\n",
       "40485                          0                         0   \n",
       "784765                         0                         0   \n",
       "103499                         0                         0   \n",
       "363033                         0                         0   \n",
       "886064                         0                         0   \n",
       "\n",
       "        trafficSource_medium_organic  trafficSource_medium_referral  \\\n",
       "40485                              0                              1   \n",
       "784765                             1                              0   \n",
       "103499                             1                              0   \n",
       "363033                             0                              0   \n",
       "886064                             1                              0   \n",
       "\n",
       "        trafficSource_medium_nan  \n",
       "40485                          0  \n",
       "784765                         0  \n",
       "103499                         0  \n",
       "363033                         0  \n",
       "886064                         0  \n",
       "\n",
       "[5 rows x 117 columns]"
      ]
     },
     "execution_count": 34,
     "metadata": {},
     "output_type": "execute_result"
    }
   ],
   "source": [
    "X_train.head()"
   ]
  },
  {
   "cell_type": "code",
   "execution_count": 35,
   "metadata": {},
   "outputs": [
    {
     "name": "stdout",
     "output_type": "stream",
     "text": [
      "(722922, 117)\n",
      "(722922,)\n"
     ]
    }
   ],
   "source": [
    "print(X_train.shape)\n",
    "print(y_train.shape)"
   ]
  },
  {
   "cell_type": "code",
   "execution_count": 36,
   "metadata": {},
   "outputs": [],
   "source": [
    "#### Response variable for logistic regression\n",
    "y_train_logistic = np.where(y_train != 0,1,0)"
   ]
  },
  {
   "cell_type": "markdown",
   "metadata": {},
   "source": [
    "## 4. Model Building\n",
    "\n",
    "There will be two types of models<br><br>\n",
    "1) Logistic Regression to predict where we have to predict if the value is zero or non-zero <br>\n",
    "2) Linear Regression to predict the actual Revenue <br>\n",
    "    &emsp; 2.1) OLS <br>\n",
    "    &emsp; 2.2) Random forest <br>\n",
    "    &emsp; 2.3) Splines <br>\n",
    "3) Predicting the actual Test data"
   ]
  },
  {
   "cell_type": "markdown",
   "metadata": {},
   "source": [
    "### 4.1 Logistic Regression"
   ]
  },
  {
   "cell_type": "markdown",
   "metadata": {},
   "source": [
    " Model to find where we have 0 revenue and 1 (non-zero) revenue"
   ]
  },
  {
   "cell_type": "code",
   "execution_count": 37,
   "metadata": {},
   "outputs": [
    {
     "name": "stderr",
     "output_type": "stream",
     "text": [
      "C:\\Users\\arvra\\Anaconda3\\lib\\site-packages\\scipy\\optimize\\linesearch.py:461: LineSearchWarning: The line search algorithm did not converge\n",
      "  warn('The line search algorithm did not converge', LineSearchWarning)\n",
      "C:\\Users\\arvra\\Anaconda3\\lib\\site-packages\\scipy\\optimize\\linesearch.py:312: LineSearchWarning: The line search algorithm did not converge\n",
      "  warn('The line search algorithm did not converge', LineSearchWarning)\n",
      "C:\\Users\\arvra\\Anaconda3\\lib\\site-packages\\sklearn\\utils\\optimize.py:203: ConvergenceWarning: newton-cg failed to converge. Increase the number of iterations.\n",
      "  \"number of iterations.\", ConvergenceWarning)\n"
     ]
    },
    {
     "data": {
      "text/plain": [
       "LogisticRegression(C=0.1, class_weight=None, dual=False, fit_intercept=True,\n",
       "          intercept_scaling=1, max_iter=100, multi_class='ovr', n_jobs=1,\n",
       "          penalty='l2', random_state=None, solver='newton-cg', tol=0.0001,\n",
       "          verbose=0, warm_start=False)"
      ]
     },
     "execution_count": 37,
     "metadata": {},
     "output_type": "execute_result"
    }
   ],
   "source": [
    "### Model building - logistic regression\n",
    "log_model = LogisticRegression(C = 0.1,solver = 'newton-cg')\n",
    "log_model.fit(X_train,y_train_logistic)"
   ]
  },
  {
   "cell_type": "markdown",
   "metadata": {},
   "source": [
    "##### Model Prediction - train and test"
   ]
  },
  {
   "cell_type": "code",
   "execution_count": 38,
   "metadata": {},
   "outputs": [],
   "source": [
    "#### Predicting the values - Obtaining prediction probability to manually specify a threshold value\n",
    "\n",
    "threshold = 0.02\n",
    "pred_vals = log_model.predict_proba(X_train)\n",
    "pred_vals_test = log_model.predict_proba(X_test)\n",
    "\n",
    "##Getting prediction \n",
    "pred_outs_train = np.array(list(map(lambda x: np.where(x[1]>threshold,1,0).sum(),pred_vals)))\n",
    "pred_outs_test = np.array(list(map(lambda x: np.where(x[1]>threshold,1,0).sum(),pred_vals_test)))"
   ]
  },
  {
   "cell_type": "markdown",
   "metadata": {},
   "source": [
    "### 4.2 Regression Models\n",
    "### 4.2.1 OLS Models"
   ]
  },
  {
   "cell_type": "code",
   "execution_count": 39,
   "metadata": {},
   "outputs": [],
   "source": [
    "lr_model = LinearRegression(n_jobs = -1)"
   ]
  },
  {
   "cell_type": "code",
   "execution_count": 40,
   "metadata": {},
   "outputs": [
    {
     "data": {
      "text/plain": [
       "LinearRegression(copy_X=True, fit_intercept=True, n_jobs=-1, normalize=False)"
      ]
     },
     "execution_count": 40,
     "metadata": {},
     "output_type": "execute_result"
    }
   ],
   "source": [
    "lr_model.fit(X_train,y_train)"
   ]
  },
  {
   "cell_type": "code",
   "execution_count": 41,
   "metadata": {},
   "outputs": [],
   "source": [
    "predict = np.exp(lr_model.predict(X_train))\n",
    "predict_test = np.exp(lr_model.predict(X_test))\n",
    "\n",
    "\n",
    "##### Making the predictions zeros where-ever logistic regression predicted zero\n",
    "\n",
    "predict[pred_outs_train == 0] = 0\n",
    "predict_test[pred_outs_test == 0] = 0"
   ]
  },
  {
   "cell_type": "markdown",
   "metadata": {},
   "source": [
    "#### Calculating prediction Error"
   ]
  },
  {
   "cell_type": "markdown",
   "metadata": {},
   "source": [
    "#### Training data - LMSE"
   ]
  },
  {
   "cell_type": "code",
   "execution_count": 43,
   "metadata": {},
   "outputs": [
    {
     "data": {
      "text/plain": [
       "1.3217055363833488"
      ]
     },
     "execution_count": 43,
     "metadata": {},
     "output_type": "execute_result"
    }
   ],
   "source": [
    "lmse = np.sum(np.log((np.exp(y_train.values) -  predict) ** 2 + 1))/len(y_train.values)\n",
    "lmse"
   ]
  },
  {
   "cell_type": "markdown",
   "metadata": {},
   "source": [
    "#### Validation data - LMSE"
   ]
  },
  {
   "cell_type": "code",
   "execution_count": 44,
   "metadata": {},
   "outputs": [
    {
     "data": {
      "text/plain": [
       "1.3236877386718608"
      ]
     },
     "execution_count": 44,
     "metadata": {},
     "output_type": "execute_result"
    }
   ],
   "source": [
    "lmse = np.sum(np.log((np.exp(y_test.values) - predict_test)**2 + 1))/len(y_test.values)\n",
    "lmse"
   ]
  },
  {
   "cell_type": "markdown",
   "metadata": {},
   "source": [
    "### 4.2.2 Random forest"
   ]
  },
  {
   "cell_type": "code",
   "execution_count": 46,
   "metadata": {},
   "outputs": [],
   "source": [
    "from sklearn.ensemble import RandomForestRegressor"
   ]
  },
  {
   "cell_type": "code",
   "execution_count": 47,
   "metadata": {},
   "outputs": [
    {
     "data": {
      "text/plain": [
       "RandomForestRegressor(bootstrap=True, criterion='mse', max_depth=None,\n",
       "           max_features='auto', max_leaf_nodes=None,\n",
       "           min_impurity_decrease=0.0, min_impurity_split=None,\n",
       "           min_samples_leaf=1, min_samples_split=2,\n",
       "           min_weight_fraction_leaf=0.0, n_estimators=10, n_jobs=1,\n",
       "           oob_score=False, random_state=None, verbose=0, warm_start=False)"
      ]
     },
     "execution_count": 47,
     "metadata": {},
     "output_type": "execute_result"
    }
   ],
   "source": [
    "#### The arguments of Random Forest were changed constantly based on the error on validation dataset\n",
    "#### 15 was found to be better (After which the values saturated)\n",
    "\n",
    "rf_regression = RandomForestRegressor(n_estimators= 15)\n",
    "\n",
    "### Fitting the random forest model\n",
    "rf_regression.fit(X_train,y_train)"
   ]
  },
  {
   "cell_type": "code",
   "execution_count": 48,
   "metadata": {},
   "outputs": [],
   "source": [
    "#### Predictions for the train and validation dataste\n",
    "\n",
    "#Prediction for training data\n",
    "rf_predictions = np.exp(rf_regression.predict(X_train))\n",
    "\n",
    "#Prediction for validation data\n",
    "rf_predictions_test = np.exp(rf_regression.predict(X_test))"
   ]
  },
  {
   "cell_type": "code",
   "execution_count": 49,
   "metadata": {},
   "outputs": [
    {
     "name": "stdout",
     "output_type": "stream",
     "text": [
      "Train Error:  1.1763764427402958\n",
      "Validation Error:  0.342087113016737\n"
     ]
    }
   ],
   "source": [
    "### Using the predictions from logistic regression - to make the values zeros of those predicted as zeros from logistic regression\n",
    "rf_predictions[pred_outs_train == 0] = 0\n",
    "rf_predictions_test[pred_outs_test == 0] = 0\n",
    "\n",
    "\n",
    "lmse = np.sum(np.log((np.exp(y_train.values) -  rf_predictions) ** 2 + 1))/len(y_train.values)\n",
    "print(\"Train Error: \",lmse)\n",
    "\n",
    "lmse = np.sum(np.log((np.exp(y_test.values) -  rf_predictions_test) ** 2 + 1))/len(y_train.values)\n",
    "print(\"Validation Error: \",lmse)\n",
    "\n",
    "#### The validation error dropped sig"
   ]
  },
  {
   "cell_type": "markdown",
   "metadata": {},
   "source": [
    "#### Selecting top features based on the feature_importances_ from random forest results"
   ]
  },
  {
   "cell_type": "code",
   "execution_count": 124,
   "metadata": {},
   "outputs": [],
   "source": [
    "#rf_regression.feature_importances_"
   ]
  },
  {
   "cell_type": "code",
   "execution_count": 194,
   "metadata": {},
   "outputs": [
    {
     "data": {
      "text/plain": [
       "Index(['totals_hits', 'totals_pageviews', 'visitNumber', 'visitStartTime',\n",
       "       'month', 'day', 'device_browser_enc', 'geoNetwork_metro_enc',\n",
       "       'geoNetwork_networkDomain_enc', 'geoNetwork_region_enc',\n",
       "       'trafficSource_source_enc', 'geoNetwork_city_enc',\n",
       "       'geoNetwork_country_enc', 'device_operatingSystem_macintosh'],\n",
       "      dtype='object')"
      ]
     },
     "execution_count": 194,
     "metadata": {},
     "output_type": "execute_result"
    }
   ],
   "source": [
    "#### Top 14 columns based on the threshold 0.01\n",
    "rf_top_feats = X_train.columns[rf_regression.feature_importances_ > 0.01]\n",
    "rf_top_feats"
   ]
  },
  {
   "cell_type": "markdown",
   "metadata": {},
   "source": [
    "### 4.2.3 Splines"
   ]
  },
  {
   "cell_type": "code",
   "execution_count": 195,
   "metadata": {},
   "outputs": [],
   "source": [
    "from patsy import dmatrix\n",
    "import statsmodels.api as sm"
   ]
  },
  {
   "cell_type": "code",
   "execution_count": 201,
   "metadata": {},
   "outputs": [
    {
     "name": "stdout",
     "output_type": "stream",
     "text": [
      "totals_hits\n",
      "totals_pageviews\n",
      "visitNumber\n",
      "month\n",
      "day\n",
      "device_browser_enc\n",
      "geoNetwork_metro_enc\n",
      "geoNetwork_networkDomain_enc\n",
      "geoNetwork_region_enc\n",
      "trafficSource_source_enc\n",
      "geoNetwork_city_enc\n",
      "geoNetwork_country_enc\n",
      "device_operatingSystem_macintosh\n"
     ]
    }
   ],
   "source": [
    "# Specifying 3 knots\n",
    "X_train_df = pd.DataFrame()\n",
    "X_val_df =  pd.DataFrame()\n",
    "X_test_df =  pd.DataFrame()\n",
    "\n",
    "for each in rf_top_feats:\n",
    "    \n",
    "    #### Removing Visit Start Time \n",
    "    if(each == \"visitStartTime\"):\n",
    "        continue\n",
    "    \n",
    "    #print(each)\n",
    "    k_val = X_train[each].quantile((0.25,0.5,0.75)).values.tolist()\n",
    "    \n",
    "    ################ Creating Spline variables for training data ######################\n",
    "    transformed_x1 = dmatrix(\"bs(X_train[each], knots=\"+str(k_val)+\", degree=1, include_intercept=False)\",\n",
    "                            {\"X_train[each]\": X_train[each]}, return_type='dataframe')\n",
    "    \n",
    "    X_train_df = pd.concat([X_train_df,transformed_x1],axis = 1)\n",
    "    \n",
    "    \n",
    "    ################ Creating Spline variables for validation data ######################\n",
    "    \n",
    "    transformed_x2 = dmatrix(\"bs(X_test[each], knots=\"+str(k_val)+\", degree=1, include_intercept=False)\",\n",
    "                            {\"X_test[each]\": X_test[each]}, return_type='dataframe')\n",
    "    \n",
    "    X_val_df = pd.concat([X_val_df,transformed_x2],axis = 1)\n",
    "    \n",
    "    \n",
    "    ################ Creating Spline variables for test data ######################\n",
    "    \n",
    "    transformed_x3 = dmatrix(\"bs(test_dummies[each], knots=\"+str(k_val)+\", degree=1, include_intercept=False)\",\n",
    "                            {\"test_dummies[each]\": test_dummies[each]}, return_type='dataframe')\n",
    "    \n",
    "    X_test_df = pd.concat([X_test_df,transformed_x3],axis = 1)"
   ]
  },
  {
   "cell_type": "code",
   "execution_count": 202,
   "metadata": {},
   "outputs": [],
   "source": [
    "# Build a regular linear model from the splines\n",
    "spline_model = sm.GLM(y_train, X_train_df).fit()"
   ]
  },
  {
   "cell_type": "code",
   "execution_count": 203,
   "metadata": {},
   "outputs": [],
   "source": [
    "#### Predictions for the train and validation dataset\n",
    "\n",
    "#Prediction for training data\n",
    "spline_pred_train = np.exp(spline_model.predict(X_train_df))\n",
    "spline_pred_val = np.exp(spline_model.predict(X_val_df))\n",
    "\n",
    "\n",
    "##### Making the predictions zeros where-ever logistic regression predicted zero\n",
    "spline_pred_train[pred_outs_train == 0] = 0\n",
    "spline_pred_val[pred_outs_test == 0] = 0"
   ]
  },
  {
   "cell_type": "markdown",
   "metadata": {},
   "source": [
    "#### Calculating prediction Error"
   ]
  },
  {
   "cell_type": "markdown",
   "metadata": {},
   "source": [
    "#### Training data - LMSE"
   ]
  },
  {
   "cell_type": "code",
   "execution_count": 204,
   "metadata": {},
   "outputs": [
    {
     "data": {
      "text/plain": [
       "1.3071476301698348"
      ]
     },
     "execution_count": 204,
     "metadata": {},
     "output_type": "execute_result"
    }
   ],
   "source": [
    "lmse = np.sum(np.log((np.exp(y_train.values) -  spline_pred_train) ** 2 + 1))/len(y_train.values)\n",
    "lmse"
   ]
  },
  {
   "cell_type": "markdown",
   "metadata": {},
   "source": [
    "#### Validation data - LMSE"
   ]
  },
  {
   "cell_type": "code",
   "execution_count": 205,
   "metadata": {},
   "outputs": [
    {
     "data": {
      "text/plain": [
       "1.312285480125481"
      ]
     },
     "execution_count": 205,
     "metadata": {},
     "output_type": "execute_result"
    }
   ],
   "source": [
    "lmse = np.sum(np.log((np.exp(y_test.values) - spline_pred_val)**2 + 1))/len(y_test.values)\n",
    "lmse"
   ]
  },
  {
   "cell_type": "markdown",
   "metadata": {},
   "source": [
    "### Model Results - Inference:\n",
    "\n",
    "Based on the train and validation results for Linear Regression, Random Forest and Regression Splines we see the performance of Random Forest to be significantly better than the other two. So, it could be inferred that the decision boundary is non-linear as obtained in the Random Forest"
   ]
  },
  {
   "cell_type": "markdown",
   "metadata": {},
   "source": [
    "### 4.3 Predicting the actual test class<br>\n",
    "\n",
    "Step 1: Run the logistic Regression Model <br>\n",
    "Step 2: Run the Regression Model and make non-zero predictions only for those which had non-zero prediction o/p from logistic regression"
   ]
  },
  {
   "cell_type": "markdown",
   "metadata": {},
   "source": [
    "#### Step1. Logistic Prediction"
   ]
  },
  {
   "cell_type": "code",
   "execution_count": 207,
   "metadata": {},
   "outputs": [],
   "source": [
    "pred_vals_actual_test = log_model.predict_proba(test_dummies)\n",
    "\n",
    "##Getting prediction \n",
    "pred_outs_actual_test = np.array(list(map(lambda x: np.where(x[1]>threshold,1,0).sum(),pred_vals_actual_test)))"
   ]
  },
  {
   "cell_type": "markdown",
   "metadata": {},
   "source": [
    "#### Step2. Regression Prediction"
   ]
  },
  {
   "cell_type": "code",
   "execution_count": 209,
   "metadata": {},
   "outputs": [],
   "source": [
    "#### LINEAR REGRESSION PREDICTION ###\n",
    "predict_actual_test_lr = lr_model.predict(test_dummies)\n",
    "predict_actual_test_lr[pred_outs_actual_test == 0] = 0\n",
    "\n",
    "#### RANDOM FOREST PREDICTION ###\n",
    "predict_actual_test_rf = rf_regression.predict(test_dummies)\n",
    "predict_actual_test_rf[pred_outs_actual_test == 0] = 0\n",
    "\n",
    "#### REGRESSION SPLINES PREDICTION ###\n",
    "predict_actual_test_sp = spline_model.predict(X_test_df)\n",
    "predict_actual_test_sp[pred_outs_actual_test == 0] = 0"
   ]
  },
  {
   "cell_type": "markdown",
   "metadata": {},
   "source": [
    "#### Preparing the submission files for Kaggle"
   ]
  },
  {
   "cell_type": "markdown",
   "metadata": {},
   "source": [
    "##### Linear Regression Submission"
   ]
  },
  {
   "cell_type": "code",
   "execution_count": 217,
   "metadata": {},
   "outputs": [],
   "source": [
    "submission = pd.concat([test.fullVisitorId,pd.DataFrame(predict_actual_test_lr)], axis = 1)\n",
    "submission.columns.values[1]= 'PredictedLogRevenue'\n",
    "\n",
    "submission_out = submission.groupby('fullVisitorId',as_index = False).sum()\n",
    "#submission_out.to_csv(\"kaggle_submission_lr.csv\", index = False)"
   ]
  },
  {
   "cell_type": "markdown",
   "metadata": {},
   "source": [
    "##### Random Forest Submission"
   ]
  },
  {
   "cell_type": "code",
   "execution_count": 216,
   "metadata": {},
   "outputs": [],
   "source": [
    "submission = pd.concat([test.fullVisitorId,pd.DataFrame(predict_actual_test_rf)], axis = 1)\n",
    "submission.columns.values[1]= 'PredictedLogRevenue'\n",
    "\n",
    "submission_out = submission.groupby('fullVisitorId',as_index = False).sum()\n",
    "#submission_out.to_csv(\"kaggle_submission_rf.csv\", index = False)"
   ]
  },
  {
   "cell_type": "markdown",
   "metadata": {},
   "source": [
    "##### Regression Splines Submission"
   ]
  },
  {
   "cell_type": "code",
   "execution_count": 215,
   "metadata": {},
   "outputs": [],
   "source": [
    "submission = pd.concat([test.fullVisitorId,pd.DataFrame(predict_actual_test_sp)], axis = 1)\n",
    "submission.columns.values[1]= 'PredictedLogRevenue'\n",
    "\n",
    "submission_out = submission.groupby('fullVisitorId',as_index = False).sum()\n",
    "#submission_out.to_csv(\"kaggle_submission_sp.csv\", index = False)"
   ]
  }
 ],
 "metadata": {
  "kernelspec": {
   "display_name": "Python 3",
   "language": "python",
   "name": "python3"
  },
  "language_info": {
   "codemirror_mode": {
    "name": "ipython",
    "version": 3
   },
   "file_extension": ".py",
   "mimetype": "text/x-python",
   "name": "python",
   "nbconvert_exporter": "python",
   "pygments_lexer": "ipython3",
   "version": "3.6.4"
  }
 },
 "nbformat": 4,
 "nbformat_minor": 2
}
